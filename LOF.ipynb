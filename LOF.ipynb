{
 "cells": [
  {
   "cell_type": "code",
   "execution_count": 3,
   "metadata": {},
   "outputs": [],
   "source": [
    "%load_ext autoreload\n",
    "%autoreload 2\n",
    "%matplotlib inline"
   ]
  },
  {
   "cell_type": "code",
   "execution_count": 1,
   "metadata": {},
   "outputs": [],
   "source": [
    "# we import the modules we need\n",
    "# you do not have to change anything here\n",
    "import matplotlib.pyplot as plt\n",
    "import numpy as np\n",
    "from pyspark.sql import SparkSession\n",
    "import pyspark.sql.functions as F"
   ]
  },
  {
   "cell_type": "markdown",
   "metadata": {},
   "source": [
    "# Introduction\n",
    "\n",
    "Objenious by Bouygues Telecom provides Internet of Things services with a LoRa WAN network. Objenious offers various tools, from sensors and smart metering to advanced data analytics.\n",
    "\n",
    "Objenious provided us with a big dataset (4To+) that contains identified anomalies. The dataset contains metadata (data about the LoRa network). Analyzing such a dataset requires a combination of two competences: knowledge of LoRa and literacy in machine learning.\n",
    "\n",
    "This TP will help you practice both on a real event: Objenious detected a network degradation on the 29th of January 2019. Due to a high number of requests on the network server on that day, some application servers did not receive their data as usual.\n",
    "\n",
    "You will have to analyze the data, understand it, and validate your insights.\n",
    "\n",
    "In practice, such work requires a lot of time. In order to learn as much as possible during this week, we will work on a simplified environment.\n",
    "\n",
    "For the record, the LoRa technology has three components :\n",
    "* LoRA: the radio protocol used for communication (868 to 868,6 MHz in Europe);\n",
    "* LoRa PHY: the LoRa physical layer protocol, which is proprietary and belongs to Semtech;\n",
    "* LoRa WAN: the network layer protocol that manages the communications. It is maintained by the LoRa Alliance. Objenious is a founding member of the LoRa Alliance. What you will work on, are LoRa WAN logs.\n",
    "\n",
    "\n",
    "### LoRa WAN\n",
    "\n",
    "![LoRAWAN](./images/LoraWAN.png)\n",
    "\n",
    "(source: https://lora-alliance.org/sites/default/files/2018-04/what-is-lorawan.pdf)\n",
    "\n",
    "A Lora WAN network relies on four key components:\n",
    "\n",
    "* end-node devices: they are objects with captors that send information (eg. a water meter, etc.). This information consists in an encrypted payload. You will not have to analyze it;\n",
    "\n",
    "* gateways: they are routers spread out over a territory. They forward the data packets to the network server. Data transmitted by an end-node device can be received by multiple gateways;\n",
    "\n",
    "* the network server: the centralized server filters duplicate packets, performs security checks, and manages the network (source: https://en.wikipedia.org/wiki/LoRa#cite_note-16). This is what our analysis will focus on;\n",
    "\n",
    "* application servers: once centralized by the network server, the data is sent to application servers owned by the client. They are used to build dashboards etc. to perform business intelligence.\n",
    "\n",
    "\n",
    "### Focus: Joins and DDoS\n",
    "\n",
    "The literature has already identified a potential weakness of Lora WAN: the `join` procedure. For the record,\n",
    "\n",
    "* the first thing an end-node device must do everytime it has been disconnected from the network (eg. because it has been powered down, has lost it connection, etc.) in order to reconnect is to make a new `join` request. If the network server does not confirm the join, the device will retry until it has successfully connected;\n",
    "\n",
    "* every communication (joins included) represent a load for the network. \n",
    "\n",
    "Researchers concluded that rogue devices or client could perform a Denial-of-service attack (DDos) attack by making an unreasoneable amount of joins. A DDos attack is an attack in which the perpetrator seeks to make a machine or network resource unavailable to its intended users by temporarily or indefinitely disrupting services (https://en.wikipedia.org/wiki/Denial-of-service_attack).\n",
    "\n",
    "This is exactly what Objenious identified on January 29. For information, network providers are well aware of this type of attacks. The terms and conditions of Objenious are the following:\n",
    "* Join: 120 Joins/day ( 5 joins / hour)\n",
    "* DL: 120 messages DL/day ( aprox. 5DL/hour) - a DL (Downlink) is a message going from the device to the server;\n",
    "* UL: 4800 messages UL/day - an UL (Uplink) is a message going from the server to the device.\n",
    "\n",
    "### Note about the dataset\n",
    "\n",
    "The dataset has been reduced for the purpose of the TP. Some data has been changed (eg: the client are mentioned by names instead of ids, timestamps have been replaced by date). Many rows have been removed: the log you will be working on only contain join requests. The columns present in the dataset are the ones required to solve the problem. This choice has been made to learn as much as possible in one week, to focus on the core information of an IOT network and to allow for quick computations.\n",
    "\n",
    "We can now start analysing the logs.\n"
   ]
  },
  {
   "cell_type": "markdown",
   "metadata": {},
   "source": [
    "### Spark (Apache)\n",
    "\n",
    "The main tool we will use to analyse the logs is Apache Spark. Apache Spark™ is a unified analytics engine for large-scale data processing [https://spark.apache.org/]. Spark has many API: Spark SQL for running SQL queries on structured dataframes, Spark Streaming for streaming data, Spark ML for machine learning, etc.\n",
    "\n",
    "We will only use Spark SQL to explore the Objenious data."
   ]
  },
  {
   "cell_type": "markdown",
   "metadata": {},
   "source": [
    "You can find a pyspark cheatset here: https://s3.amazonaws.com/assets.datacamp.com/blog_assets/PySpark_SQL_Cheat_Sheet_Python.pdf and the documentation here: https://spark.apache.org/docs/latest/api/python/."
   ]
  },
  {
   "cell_type": "code",
   "execution_count": 2,
   "metadata": {},
   "outputs": [],
   "source": [
    "# you do not need to change the content of this cell\n",
    "# we load our session\n",
    "spark = SparkSession.builder\\\n",
    "                    .master('local')\\\n",
    "                    .appName('DDos')\\\n",
    "                    .getOrCreate()"
   ]
  },
  {
   "cell_type": "markdown",
   "metadata": {},
   "source": [
    "We now load our first dataframe, which contains the whole dataset. Later on, we will create other dataframes: we will group the data by client, by device, etc. We will also create a clean dataframe once we have identified the anomalies in the main dataframe."
   ]
  },
  {
   "cell_type": "code",
   "execution_count": 3,
   "metadata": {},
   "outputs": [],
   "source": [
    "# you do not need to change the content of this cell\n",
    "# we load the data\n",
    "df = spark.read.format('json').load('./data/attack.json')"
   ]
  },
  {
   "cell_type": "markdown",
   "metadata": {},
   "source": [
    "Let us start the data exploration by listing how many entries there are in the dataset. To do this, call the method \"count\" of your dataframe."
   ]
  },
  {
   "cell_type": "code",
   "execution_count": 6,
   "metadata": {},
   "outputs": [
    {
     "data": {
      "text/plain": [
       "53168"
      ]
     },
     "execution_count": 6,
     "metadata": {},
     "output_type": "execute_result"
    }
   ],
   "source": [
    "# you do not need to change the content of this cell\n",
    "df.count()"
   ]
  },
  {
   "cell_type": "markdown",
   "metadata": {},
   "source": [
    "Let us look at how the entries are structured. We can do this by calling the method \"printSchema\" of the dataframe."
   ]
  },
  {
   "cell_type": "code",
   "execution_count": 8,
   "metadata": {},
   "outputs": [
    {
     "name": "stdout",
     "output_type": "stream",
     "text": [
      "root\n",
      " |-- Downlink-CRM-ClientID: string (nullable = true)\n",
      " |-- Downlink-CRM-DeviceID: string (nullable = true)\n",
      " |-- Downlink-GTW-Timestamp: string (nullable = true)\n",
      " |-- Downlink-LORA-MType: string (nullable = true)\n",
      " |-- Uplink-LNS-FrameErrorCode: string (nullable = true)\n",
      "\n"
     ]
    }
   ],
   "source": [
    "# you do not need to change the content of this cell\n",
    "df.printSchema()"
   ]
  },
  {
   "cell_type": "markdown",
   "metadata": {},
   "source": [
    "As you can see, we have structured data: the logs are organized by columns (`LNS-DownlinkLog-CRM-ClientID`, `LNS-DownlinkLog-CRM-DeviceID`, etc.) and values.\n",
    "\n",
    "The method `printSchema` only shows the name of the columns of the logs. For the moment, we do not know anything about the values these columns contain. Checking these values will be our first task."
   ]
  },
  {
   "cell_type": "code",
   "execution_count": 9,
   "metadata": {},
   "outputs": [
    {
     "name": "stdout",
     "output_type": "stream",
     "text": [
      "+---------------------+---------------------+----------------------+-------------------+-------------------------+\n",
      "|Downlink-CRM-ClientID|Downlink-CRM-DeviceID|Downlink-GTW-Timestamp|Downlink-LORA-MType|Uplink-LNS-FrameErrorCode|\n",
      "+---------------------+---------------------+----------------------+-------------------+-------------------------+\n",
      "|                 Zeta| d4a317a2-fe89-478...|   2019-01-27 03:53:27|        JOIN_ACCEPT|                     null|\n",
      "|                 Evil| f84ebe6f-e12d-47f...|   2019-01-27 03:53:34|        JOIN_ACCEPT|                     null|\n",
      "|                Gamma| 97e6580d-17bb-4b3...|   2019-01-27 03:53:36|        JOIN_ACCEPT|                     null|\n",
      "|              Epsilon| ef0a6f26-7257-441...|   2019-01-27 03:53:36|        JOIN_ACCEPT|                     null|\n",
      "|                 Beta| 625e1400-6857-48a...|   2019-01-27 03:53:41|        JOIN_ACCEPT|                     null|\n",
      "|                 Beta| 4165597b-252d-4d5...|   2019-01-27 03:53:43|        JOIN_ACCEPT|                     null|\n",
      "|                 Evil| b4069cee-5796-415...|   2019-01-27 03:53:49|        JOIN_ACCEPT|                     null|\n",
      "|                Alpha| 5466d430-594c-4b7...|   2019-01-27 03:53:53|        JOIN_ACCEPT|                     null|\n",
      "|                Alpha| 14b6ef4d-36d4-4d6...|   2019-01-27 03:54:00|        JOIN_ACCEPT|                     null|\n",
      "|                   Nu| 7ab0ce1b-7f86-4f3...|   2019-01-27 03:54:19|        JOIN_ACCEPT|                     null|\n",
      "|                 Evil| b4069cee-5796-415...|   2019-01-27 03:54:21|        JOIN_ACCEPT|                     null|\n",
      "|                Gamma| 98b5f018-d81a-466...|   2019-01-27 03:54:29|        JOIN_ACCEPT|                     null|\n",
      "|                 Evil| 4614371c-2eb6-4e3...|   2019-01-27 03:54:34|        JOIN_ACCEPT|                     null|\n",
      "|                 Evil| f84ebe6f-e12d-47f...|   2019-01-27 03:54:54|        JOIN_ACCEPT|                     null|\n",
      "|                 Evil| f8d07a11-7191-452...|   2019-01-27 03:54:56|        JOIN_ACCEPT|                     null|\n",
      "|                Theta| 81e9ad15-471f-47f...|   2019-01-27 03:55:08|        JOIN_ACCEPT|                     null|\n",
      "|                 Evil| 9ec9344a-a760-460...|   2019-01-27 03:55:10|               null|                    ERROR|\n",
      "|                Gamma| 30de9ff3-593b-49c...|   2019-01-27 03:55:24|        JOIN_ACCEPT|                     null|\n",
      "|                Theta| efeae1e1-1adb-4c6...|   2019-01-27 03:55:33|        JOIN_ACCEPT|                     null|\n",
      "|                Alpha| 9f86bcfb-9125-4a6...|   2019-01-27 03:55:34|        JOIN_ACCEPT|                     null|\n",
      "+---------------------+---------------------+----------------------+-------------------+-------------------------+\n",
      "only showing top 20 rows\n",
      "\n"
     ]
    }
   ],
   "source": [
    "# you do not need to change the content of this cell\n",
    "df.show()"
   ]
  },
  {
   "cell_type": "markdown",
   "metadata": {},
   "source": [
    "### Exploring the data\n",
    "\n",
    "The simpliest way to start the analysis of the dataset is to look at each column *individually*. For instance, we can list the unique values each column contains. Once we start having some clues, we will start *combining* the data and make our first assumptions.\n",
    "\n",
    "We will do this using Spark's dataframe queries.\n",
    "\n",
    "The first query  we will try is the \"select\" query. A select query expects the name(s) of the 1+ column(s) we want to query on. Here, for instance, we query on the clients and devices ids: `Downlink-CRM-ClientID`, `Downlink-CRM-DeviceID`."
   ]
  },
  {
   "cell_type": "code",
   "execution_count": 10,
   "metadata": {},
   "outputs": [
    {
     "name": "stdout",
     "output_type": "stream",
     "text": [
      "+---------------------+---------------------+\n",
      "|Downlink-CRM-ClientID|Downlink-CRM-DeviceID|\n",
      "+---------------------+---------------------+\n",
      "|                 Zeta| d4a317a2-fe89-478...|\n",
      "|                 Evil| f84ebe6f-e12d-47f...|\n",
      "|                Gamma| 97e6580d-17bb-4b3...|\n",
      "|              Epsilon| ef0a6f26-7257-441...|\n",
      "|                 Beta| 625e1400-6857-48a...|\n",
      "|                 Beta| 4165597b-252d-4d5...|\n",
      "|                 Evil| b4069cee-5796-415...|\n",
      "|                Alpha| 5466d430-594c-4b7...|\n",
      "|                Alpha| 14b6ef4d-36d4-4d6...|\n",
      "|                   Nu| 7ab0ce1b-7f86-4f3...|\n",
      "|                 Evil| b4069cee-5796-415...|\n",
      "|                Gamma| 98b5f018-d81a-466...|\n",
      "|                 Evil| 4614371c-2eb6-4e3...|\n",
      "|                 Evil| f84ebe6f-e12d-47f...|\n",
      "|                 Evil| f8d07a11-7191-452...|\n",
      "|                Theta| 81e9ad15-471f-47f...|\n",
      "|                 Evil| 9ec9344a-a760-460...|\n",
      "|                Gamma| 30de9ff3-593b-49c...|\n",
      "|                Theta| efeae1e1-1adb-4c6...|\n",
      "|                Alpha| 9f86bcfb-9125-4a6...|\n",
      "+---------------------+---------------------+\n",
      "only showing top 20 rows\n",
      "\n"
     ]
    }
   ],
   "source": [
    "# you do not need to change the content of this cell\n",
    "df.select(\n",
    "        F.col(\"Downlink-CRM-ClientID\"),\n",
    "        F.col(\"Downlink-CRM-DeviceID\")\n",
    "    )\\\n",
    "    .show()"
   ]
  },
  {
   "cell_type": "markdown",
   "metadata": {},
   "source": [
    "This query shows us the name of the devices and the clients they belong to.\n",
    "\n",
    "Let us count how many entries there are for every client. For this, we will use the `groupBy` query."
   ]
  },
  {
   "cell_type": "code",
   "execution_count": 11,
   "metadata": {},
   "outputs": [
    {
     "name": "stdout",
     "output_type": "stream",
     "text": [
      "+---------------------+-----+\n",
      "|Downlink-CRM-ClientID|count|\n",
      "+---------------------+-----+\n",
      "|                 Evil|35774|\n",
      "|                Delta| 1396|\n",
      "|                Theta|  718|\n",
      "|               Lambda|  621|\n",
      "|                  Eta|  710|\n",
      "|                   Nu|  342|\n",
      "|                 Beta| 4322|\n",
      "|                   Mu|  298|\n",
      "|                Kappa|  290|\n",
      "|                 Iota|  344|\n",
      "|                Gamma| 6095|\n",
      "|              Epsilon|  291|\n",
      "|                 Zeta|  564|\n",
      "|                Alpha| 1403|\n",
      "+---------------------+-----+\n",
      "\n"
     ]
    }
   ],
   "source": [
    "# you do not need to change the content of this cell\n",
    "df.groupBy(\n",
    "        \"Downlink-CRM-ClientID\"\n",
    "    )\\\n",
    "    .count()\\\n",
    "    .show()"
   ]
  },
  {
   "cell_type": "markdown",
   "metadata": {},
   "source": [
    "As you can see, there are 14 clients in the dataset (this is because we removed many entries to allow for fast computations).\n",
    "\n",
    "You can also \"save\" you data frame in a python array by using the `.collect()` method."
   ]
  },
  {
   "cell_type": "code",
   "execution_count": 12,
   "metadata": {},
   "outputs": [
    {
     "name": "stdout",
     "output_type": "stream",
     "text": [
      "Length:                                            14\n",
      "First element:                                     Row(Downlink-CRM-ClientID='Evil', count=35774)\n",
      "Access an element's values by its index:           Evil\n",
      "Access an element's valyes by its colum's name:    Evil\n"
     ]
    }
   ],
   "source": [
    "# you do not need to change the content of this cell\n",
    "df_array = df.groupBy(\n",
    "        \"Downlink-CRM-ClientID\"\n",
    "    )\\\n",
    "    .count()\\\n",
    "    .collect()\n",
    "\n",
    "# Here is how the array is structured\n",
    "print(\"Length:                                           \", len(df_array))\n",
    "print(\"First element:                                    \", df_array[0])\n",
    "print(\"Access an element's values by its index:          \", df_array[0][0])\n",
    "print(\"Access an element's valyes by its colum's name:   \", df_array[0][\"Downlink-CRM-ClientID\"])"
   ]
  },
  {
   "cell_type": "markdown",
   "metadata": {},
   "source": [
    "This query would be easier to read if sorted. To do this, we will use the `sort` clause."
   ]
  },
  {
   "cell_type": "code",
   "execution_count": 13,
   "metadata": {},
   "outputs": [
    {
     "name": "stdout",
     "output_type": "stream",
     "text": [
      "+---------------------+-----+\n",
      "|Downlink-CRM-ClientID|count|\n",
      "+---------------------+-----+\n",
      "|                 Evil|35774|\n",
      "|                Gamma| 6095|\n",
      "|                 Beta| 4322|\n",
      "|                Alpha| 1403|\n",
      "|                Delta| 1396|\n",
      "|                Theta|  718|\n",
      "|                  Eta|  710|\n",
      "|               Lambda|  621|\n",
      "|                 Zeta|  564|\n",
      "|                 Iota|  344|\n",
      "|                   Nu|  342|\n",
      "|                   Mu|  298|\n",
      "|              Epsilon|  291|\n",
      "|                Kappa|  290|\n",
      "+---------------------+-----+\n",
      "\n"
     ]
    }
   ],
   "source": [
    "# you do not need to change the content of this cell\n",
    "# the F.desc function tells spark to sort the dataframe on the \"count\" column\n",
    "# you will have to reuse F function later on when writing your own query\n",
    "df.groupBy(\n",
    "        \"Downlink-CRM-ClientID\"\n",
    "    ).count(\n",
    "    ).sort(\n",
    "        F.desc(\"count\")  # F.asc(\"count\") would have sorted the dataset in an ascending order\n",
    "    ).show() "
   ]
  },
  {
   "cell_type": "markdown",
   "metadata": {},
   "source": [
    "This query tells us that Evil made much more requests than other clients. Absolute values are interesting to look at but seldom tell the whole story. For instance, the preceeding query does not answer the following question: is Evil a big client (a very high number of request would then be normal)? Is Evil a small client? How does Evil behave in comparison with other clients?\n",
    "\n",
    "Since we are working with time series, the next step will be to query the data by day. We will do this using a `where` clause."
   ]
  },
  {
   "cell_type": "code",
   "execution_count": 14,
   "metadata": {},
   "outputs": [
    {
     "name": "stdout",
     "output_type": "stream",
     "text": [
      "+---------------------+-----+\n",
      "|Downlink-CRM-ClientID|count|\n",
      "+---------------------+-----+\n",
      "|                 Evil| 3206|\n",
      "|                 Beta| 1274|\n",
      "|                Gamma|  779|\n",
      "|                Alpha|  436|\n",
      "|                Delta|  407|\n",
      "|                Theta|  219|\n",
      "|                  Eta|  214|\n",
      "|               Lambda|  159|\n",
      "|                 Zeta|  153|\n",
      "|                 Iota|  110|\n",
      "|                   Nu|  104|\n",
      "|                Kappa|   89|\n",
      "|              Epsilon|   82|\n",
      "|                   Mu|   73|\n",
      "+---------------------+-----+\n",
      "\n"
     ]
    }
   ],
   "source": [
    "# you do not need to change the content of this cell\n",
    "df.select(\n",
    "        F.col(\"Downlink-CRM-ClientID\")\n",
    "    ).where(\n",
    "        F.dayofmonth(\"Downlink-GTW-Timestamp\").isin([27])  # we query on the day 27\n",
    "    ).groupBy(\n",
    "        F.col(\"Downlink-CRM-ClientID\")\n",
    "    ).count()\\\n",
    "    .sort(\n",
    "        F.desc(\"count\")\n",
    "    ).show() "
   ]
  },
  {
   "cell_type": "markdown",
   "metadata": {},
   "source": [
    "Repeating the query for every day would be inefficient and error prone (for instance, if we wanted to modify the query we would have to do it for every queried day). It is now time to write our first python function to automate the exploration tasks.\n",
    "\n",
    "The last query we wrote lists, for the day 27, the unique values that the `LNS-DownlinkLog.CRM-ClientID` column contains and their occurences.\n",
    "\n",
    "It should be nice to be able to repeat this task just by passing the name of the column and the queried days to a function, instead of having to rewrite the whole query every time.\n",
    "\n",
    "To do it, just copy the previous query in the following function. Replace the `LNS-DownlinkLog.CRM-ClientID` string by the `column_name` parameter and the `[27]` list by the `days` list.\n",
    "\n",
    "Once you are done, run the two following cells. The first cell will save your function and the second one will run it. "
   ]
  },
  {
   "cell_type": "code",
   "execution_count": 4,
   "metadata": {},
   "outputs": [],
   "source": [
    "# you must change the content of this cell\n",
    "\n",
    "def get_distinct_values(df, column_name, days):\n",
    "    \"\"\"\n",
    "    This function queries the distinct values we can find in the dataset for the specified column.\n",
    "    \n",
    "    Parameters\n",
    "    ----------\n",
    "    df : pyspark.sql.dataframe.DataFrame\n",
    "        A spark dataframe.\n",
    "    column_name : str\n",
    "        The name of the column that we are querying.\n",
    "    days : list of int\n",
    "        The days of the month for which the data should be selected.\n",
    "        \n",
    "    Returns\n",
    "    -------\n",
    "    distinct_values : pyspark.sql.dataframe.DataFrame\n",
    "        A pyspark dataframe containing two columns: the queried column and the # of occurences for each value.\n",
    "        The dataframe is ordered by the # of occurences.\n",
    "    \"\"\"\n",
    "    # select the distinct values and their count\n",
    "    distinct_values = df.select(\n",
    "        F.col(column_name)\n",
    "    ).where(\n",
    "        F.dayofmonth(\"Downlink-GTW-Timestamp\").isin(days)  # we query on the day 27\n",
    "    ).groupBy(\n",
    "        F.col(column_name)\n",
    "    ).count()\\\n",
    "    .sort(\n",
    "        F.desc(\"count\")\n",
    "    )\n",
    "    # return\n",
    "    return distinct_values"
   ]
  },
  {
   "cell_type": "code",
   "execution_count": 5,
   "metadata": {},
   "outputs": [],
   "source": [
    "# you do not need to change the content of this cell\n",
    "distinct_values = get_distinct_values(df, column_name=\"Downlink-CRM-ClientID\", days=[26, 27, 28, 29])"
   ]
  },
  {
   "cell_type": "code",
   "execution_count": 17,
   "metadata": {},
   "outputs": [
    {
     "name": "stdout",
     "output_type": "stream",
     "text": [
      "+---------------------+-----+\n",
      "|Downlink-CRM-ClientID|count|\n",
      "+---------------------+-----+\n",
      "|                 Evil|35774|\n",
      "|                Gamma| 6095|\n",
      "|                 Beta| 4322|\n",
      "|                Alpha| 1403|\n",
      "|                Delta| 1396|\n",
      "|                Theta|  718|\n",
      "|                  Eta|  710|\n",
      "|               Lambda|  621|\n",
      "|                 Zeta|  564|\n",
      "|                 Iota|  344|\n",
      "|                   Nu|  342|\n",
      "|                   Mu|  298|\n",
      "|              Epsilon|  291|\n",
      "|                Kappa|  290|\n",
      "+---------------------+-----+\n",
      "\n"
     ]
    }
   ],
   "source": [
    "# you do not need to change the content of this cell\n",
    "distinct_values.show()"
   ]
  },
  {
   "cell_type": "markdown",
   "metadata": {},
   "source": [
    "The good news is that the query can now be called programmatically. Here is how to do it with a for loop.\n",
    "\n",
    "We focus on the columns that are related to the join requests. "
   ]
  },
  {
   "cell_type": "code",
   "execution_count": 25,
   "metadata": {},
   "outputs": [
    {
     "name": "stdout",
     "output_type": "stream",
     "text": [
      "+-------------------+-----+\n",
      "|Downlink-LORA-MType|count|\n",
      "+-------------------+-----+\n",
      "|        JOIN_ACCEPT| 8666|\n",
      "|               null|  111|\n",
      "+-------------------+-----+\n",
      "\n"
     ]
    },
    {
     "data": {
      "image/png": "[encoded data removed]",
      "text/plain": [
       "<Figure size 432x288 with 1 Axes>"
      ]
     },
     "metadata": {},
     "output_type": "display_data"
    }
   ],
   "source": [
    "# you do not need to change the content of this cell\n",
    "distinct_values = get_distinct_values(df, column_name='Downlink-LORA-MType', days=[28])\n",
    "distinct_values.show()\n",
    "labels, sizes = [], []\n",
    "for row in distinct_values.collect():\n",
    "    labels.append(row['Downlink-LORA-MType'])\n",
    "    sizes.append(row['count'])\n",
    "labels = np.where(labels==None, \"None\", labels)\n",
    "fig1, ax1 = plt.subplots()\n",
    "ax1.pie(sizes, labels=labels, autopct='%1.1f%%', shadow=True, startangle=90)\n",
    "ax1.axis('equal')  # Equal aspect ratio ensures that pie is drawn as a circle.\n",
    "plt.title(\"Pie chart for: {}\".format('Downlink-LORA-MType on a normal day'))\n",
    "plt.show()"
   ]
  },
  {
   "cell_type": "code",
   "execution_count": 19,
   "metadata": {},
   "outputs": [
    {
     "data": {
      "image/png": "[encoded data removed]",
      "text/plain": [
       "<Figure size 432x288 with 1 Axes>"
      ]
     },
     "metadata": {},
     "output_type": "display_data"
    }
   ],
   "source": [
    "# you do not need to change the content of this cell\n",
    "distinct_values = get_distinct_values(df, column_name='Downlink-LORA-MType', days=[29])\n",
    "labels, sizes = [], []\n",
    "for row in distinct_values.collect():\n",
    "    labels.append(row['Downlink-LORA-MType'])\n",
    "    sizes.append(row['count'])\n",
    "labels = np.where(labels==None, \"None\", labels)\n",
    "fig1, ax1 = plt.subplots()\n",
    "ax1.pie(sizes, labels=labels, autopct='%1.1f%%', shadow=True, startangle=90)\n",
    "ax1.axis('equal')  # Equal aspect ratio ensures that pie is drawn as a circle.\n",
    "plt.title(\"Pie chart for: {}\".format('Downlink-LORA-MType on the attack day'))\n",
    "plt.show()"
   ]
  },
  {
   "cell_type": "markdown",
   "metadata": {},
   "source": [
    "In our case, a join either works or returns a failure. This is because we have selected a subset of the dataset - the join queries - for the TP.\n",
    "\n",
    "It is now time to analyze combinations of data. In the next query, we will check the evolutions of errors by hour."
   ]
  },
  {
   "cell_type": "code",
   "execution_count": 27,
   "metadata": {},
   "outputs": [
    {
     "name": "stdout",
     "output_type": "stream",
     "text": [
      "[Row(day=27, hour=3, nb_records=42, nb_errors=2), Row(day=27, hour=4, nb_records=350, nb_errors=5), Row(day=27, hour=5, nb_records=353, nb_errors=1), Row(day=27, hour=6, nb_records=341, nb_errors=3), Row(day=27, hour=7, nb_records=360, nb_errors=1), Row(day=27, hour=8, nb_records=360, nb_errors=6), Row(day=27, hour=9, nb_records=369, nb_errors=5), Row(day=27, hour=10, nb_records=389, nb_errors=8), Row(day=27, hour=11, nb_records=360, nb_errors=6), Row(day=27, hour=12, nb_records=354, nb_errors=4), Row(day=27, hour=13, nb_records=376, nb_errors=6), Row(day=27, hour=14, nb_records=369, nb_errors=5), Row(day=27, hour=15, nb_records=358, nb_errors=6), Row(day=27, hour=16, nb_records=372, nb_errors=10), Row(day=27, hour=17, nb_records=352, nb_errors=10), Row(day=27, hour=18, nb_records=348, nb_errors=7), Row(day=27, hour=19, nb_records=341, nb_errors=3), Row(day=27, hour=20, nb_records=370, nb_errors=0), Row(day=27, hour=21, nb_records=376, nb_errors=8), Row(day=27, hour=22, nb_records=361, nb_errors=1), Row(day=27, hour=23, nb_records=404, nb_errors=5), Row(day=28, hour=0, nb_records=371, nb_errors=6), Row(day=28, hour=1, nb_records=362, nb_errors=10), Row(day=28, hour=2, nb_records=362, nb_errors=6), Row(day=28, hour=3, nb_records=324, nb_errors=3), Row(day=28, hour=4, nb_records=366, nb_errors=8), Row(day=28, hour=5, nb_records=397, nb_errors=3), Row(day=28, hour=6, nb_records=351, nb_errors=3), Row(day=28, hour=7, nb_records=366, nb_errors=8), Row(day=28, hour=8, nb_records=353, nb_errors=5), Row(day=28, hour=9, nb_records=363, nb_errors=2), Row(day=28, hour=10, nb_records=349, nb_errors=1), Row(day=28, hour=11, nb_records=370, nb_errors=5), Row(day=28, hour=12, nb_records=378, nb_errors=5), Row(day=28, hour=13, nb_records=396, nb_errors=5), Row(day=28, hour=14, nb_records=362, nb_errors=5), Row(day=28, hour=15, nb_records=374, nb_errors=5), Row(day=28, hour=16, nb_records=355, nb_errors=3), Row(day=28, hour=17, nb_records=382, nb_errors=4), Row(day=28, hour=18, nb_records=366, nb_errors=5), Row(day=28, hour=19, nb_records=335, nb_errors=3), Row(day=28, hour=20, nb_records=348, nb_errors=5), Row(day=28, hour=21, nb_records=381, nb_errors=0), Row(day=28, hour=22, nb_records=368, nb_errors=6), Row(day=28, hour=23, nb_records=398, nb_errors=5), Row(day=29, hour=0, nb_records=378, nb_errors=6), Row(day=29, hour=1, nb_records=368, nb_errors=6), Row(day=29, hour=2, nb_records=361, nb_errors=6), Row(day=29, hour=3, nb_records=487, nb_errors=75), Row(day=29, hour=4, nb_records=1725, nb_errors=777), Row(day=29, hour=5, nb_records=1761, nb_errors=814), Row(day=29, hour=6, nb_records=1753, nb_errors=788), Row(day=29, hour=7, nb_records=1823, nb_errors=880), Row(day=29, hour=8, nb_records=1802, nb_errors=796), Row(day=29, hour=9, nb_records=1785, nb_errors=802), Row(day=29, hour=10, nb_records=1825, nb_errors=816), Row(day=29, hour=11, nb_records=1749, nb_errors=806), Row(day=29, hour=12, nb_records=1759, nb_errors=785), Row(day=29, hour=13, nb_records=1782, nb_errors=811), Row(day=29, hour=14, nb_records=1727, nb_errors=811), Row(day=29, hour=15, nb_records=1803, nb_errors=805), Row(day=29, hour=16, nb_records=1791, nb_errors=805), Row(day=29, hour=17, nb_records=1760, nb_errors=810), Row(day=29, hour=18, nb_records=1843, nb_errors=844), Row(day=29, hour=19, nb_records=1761, nb_errors=786), Row(day=29, hour=20, nb_records=1774, nb_errors=779), Row(day=29, hour=21, nb_records=1736, nb_errors=832), Row(day=29, hour=22, nb_records=1736, nb_errors=774), Row(day=29, hour=23, nb_records=1797, nb_errors=802)]\n"
     ]
    }
   ],
   "source": [
    "# you do not need to change the content of this cell\n",
    "df_errors_by_hour = df.groupBy(\n",
    "        # these are the columns already present in the dataset\n",
    "        F.dayofmonth(\"Downlink-GTW-Timestamp\").alias(\"day\"),\n",
    "        F.hour(\"Downlink-GTW-Timestamp\").alias(\"hour\"),\n",
    "    ).agg(\n",
    "        # these are the values to be computed\n",
    "        F.count(F.lit(1)).alias(\"nb_records\"),  # this lines simply counts the nb. of records\n",
    "        F.count(\"Uplink-LNS-FrameErrorCode\").alias(\"nb_errors\"),\n",
    "    ).sort(\n",
    "        # these are the columns to sort on\n",
    "        F.asc(\"day\"), \n",
    "        F.asc(\"hour\"), \n",
    "    )\n",
    "print(df_errors_by_hour.collect())"
   ]
  },
  {
   "cell_type": "code",
   "execution_count": 28,
   "metadata": {},
   "outputs": [
    {
     "data": {
      "image/png": "[encoded data removed]",
      "text/plain": [
       "<Figure size 432x288 with 1 Axes>"
      ]
     },
     "metadata": {
      "needs_background": "light"
     },
     "output_type": "display_data"
    }
   ],
   "source": [
    "# you do not need to change the content of this cell\n",
    "def bar_plot_by_hour(df_errors_by_hour):\n",
    "    \"\"\" Requires a df with day, hour, nb_records and nb_errors. \"\"\"\n",
    "    import datetime\n",
    "    times = []\n",
    "    nb_records = []\n",
    "    nb_errors = []\n",
    "    for row in df_errors_by_hour.rdd.collect():\n",
    "        times.append(datetime.datetime(year=2019, month=1, day=row[\"day\"], hour=row[\"hour\"]))\n",
    "        nb_records.append(row[\"nb_records\"])\n",
    "        nb_errors.append(row[\"nb_errors\"])\n",
    "    plt.bar(times, nb_records, color='g', label='Number of records')\n",
    "    plt.bar(times, nb_errors, color='r', alpha=1, label='Number of errors')\n",
    "    plt.legend()\n",
    "    try:\n",
    "        # zeppelin\n",
    "        z.show(plt)\n",
    "        plt.close()\n",
    "    except:\n",
    "        plt.show()\n",
    "bar_plot_by_hour(df_errors_by_hour)"
   ]
  },
  {
   "cell_type": "markdown",
   "metadata": {},
   "source": [
    "The DDoS attack of January 29 is clearly visible on that plot.\n",
    "\n",
    "The next step will be to \n",
    "* group the entries by day, by client and by device;\n",
    "* count the number of records, the number of errors, the error percentage;\n",
    "* sort the recors by day and records.\n",
    "\n",
    "This query is for you. It should return the following columns:\n",
    "* `day`\n",
    "* `LNS-DownlinkLog.CRM-ClientID`\n",
    "* `LNS-DownlinkLog.CRM-DeviceID`\n",
    "* `nb_records`\n",
    "* `nb_errors`\n",
    "* `pct_errors`\n",
    "\n",
    "Have a look at the queries we just wrote and try to adapt them. Do not forget to add aliases in your `groupBy` clause."
   ]
  },
  {
   "cell_type": "code",
   "execution_count": 6,
   "metadata": {},
   "outputs": [],
   "source": [
    "# you must change the content of this cell\n",
    "def get_joins_by_devices(df):\n",
    "    return df.groupBy(\n",
    "        # these are the columns already present in the dataset\n",
    "     F.dayofmonth(\"Downlink-GTW-Timestamp\").alias(\"day\"),\n",
    "     F.col(\"Downlink-CRM-ClientID\").alias(\"Downlink-CRM-ClientID\"),\n",
    "     F.col(\"Downlink-CRM-DeviceID\").alias(\"Downlink-CRM-DeviceID\"),\n",
    "    ).agg(\n",
    "        # these are the values to be computed\n",
    "        F.count(F.lit(1)).alias(\"nb_records\"),\n",
    "        F.count(\"Uplink-LNS-FrameErrorCode\").alias(\"nb_errors\"),\n",
    "        (F.count(\"Uplink-LNS-FrameErrorCode\") / F.count(F.lit(1)) * 100).alias(\"pct_errors\"),\n",
    "    ).sort(\n",
    "        # these are the columns to sort on\n",
    "        F.asc(\"day\"), \n",
    "        F.asc(\"nb_records\"), \n",
    "        \n",
    "    )"
   ]
  },
  {
   "cell_type": "code",
   "execution_count": 7,
   "metadata": {},
   "outputs": [
    {
     "name": "stdout",
     "output_type": "stream",
     "text": [
      "+---+---------------------+---------------------+----------+---------+-----------------+\n",
      "|day|Downlink-CRM-ClientID|Downlink-CRM-DeviceID|nb_records|nb_errors|       pct_errors|\n",
      "+---+---------------------+---------------------+----------+---------+-----------------+\n",
      "| 27|                 Iota| 346bc7fb-8210-476...|         1|        0|              0.0|\n",
      "| 27|                Gamma| 0e5d7e0e-e431-48a...|         1|        0|              0.0|\n",
      "| 27|                Gamma| 3b50cd3e-8718-4e3...|         2|        0|              0.0|\n",
      "| 27|                Gamma| d02d9c78-2b26-4ad...|         2|        0|              0.0|\n",
      "| 27|              Epsilon| 2abb5d2a-69eb-45b...|         2|        0|              0.0|\n",
      "| 27|                Gamma| b12f89fa-ee96-45f...|         2|        0|              0.0|\n",
      "| 27|                Gamma| 8986c9a0-3c35-4ec...|         2|        0|              0.0|\n",
      "| 27|                Gamma| 6ba1249e-a82a-4bb...|         2|        0|              0.0|\n",
      "| 27|                Gamma| ff764767-1fca-4ae...|         2|        0|              0.0|\n",
      "| 27|                Kappa| 4bf394ab-a28f-478...|         2|        0|              0.0|\n",
      "| 27|                Delta| 09b1b93d-f915-4db...|         2|        0|              0.0|\n",
      "| 27|                Gamma| 1a119acd-649f-40b...|         3|        0|              0.0|\n",
      "| 27|                Gamma| 3d4c5009-8b88-4f4...|         3|        0|              0.0|\n",
      "| 27|                Gamma| e30533c1-f0b8-458...|         3|        0|              0.0|\n",
      "| 27|                Delta| b39c1b27-01ba-459...|         3|        0|              0.0|\n",
      "| 27|              Epsilon| efbabb53-1346-423...|         3|        1|33.33333333333333|\n",
      "| 27|                 Iota| 86fd3f60-d4f3-4b0...|         3|        0|              0.0|\n",
      "| 27|                 Zeta| 4fe7b2cb-ae68-4bc...|         3|        0|              0.0|\n",
      "| 27|                Gamma| f59820e8-19df-4f6...|         3|        0|              0.0|\n",
      "| 27|                Gamma| 1ce8d728-96aa-4f1...|         3|        0|              0.0|\n",
      "+---+---------------------+---------------------+----------+---------+-----------------+\n",
      "only showing top 20 rows\n",
      "\n"
     ]
    }
   ],
   "source": [
    "# you do not need to change the content of this cell\n",
    "df_joins_by_devices = get_joins_by_devices(df)\n",
    "df_joins_by_devices.show()"
   ]
  },
  {
   "cell_type": "markdown",
   "metadata": {},
   "source": [
    "We can now plot the number of join requests by client by day.\n",
    "\n",
    "The X axis represents the % of errors. The Y axis the number of request on the given day. The radius of the circles depends on the number of devices the client owns."
   ]
  },
  {
   "cell_type": "code",
   "execution_count": 8,
   "metadata": {},
   "outputs": [],
   "source": [
    "# you do not need to change the content of this cell\n",
    "\n",
    "def _scatter_plot(labels, x_axis, y_axis, points_size=None, x_min=None, x_max=None, y_min=None, y_max=None, title=\"\", color='b', axhline=None):\n",
    "    fig, ax = plt.subplots()\n",
    "    if points_size is not None:\n",
    "        ax.scatter(x_axis, y_axis, color=color, s=points_size * 10)\n",
    "    else:\n",
    "        ax.scatter(x_axis, y_axis, color=color)\n",
    "    for i in range(len(labels)):\n",
    "        ax.annotate(labels[i], (x_axis[i], y_axis[i]))\n",
    "    if x_min and x_max:\n",
    "        plt.xlim((x_min, x_max))\n",
    "    if y_min and y_max:\n",
    "        plt.ylim((y_min, y_max))\n",
    "    if axhline:\n",
    "        plt.axhline(y=axhline, color='r', linestyle='-')\n",
    "    plt.title(title)\n",
    "    try:\n",
    "        z.show(plt)\n",
    "        plt.close()\n",
    "    except:\n",
    "        plt.show()\n",
    "\n",
    "def _group_by_client(df):\n",
    "    df = df.groupBy(\n",
    "        # these are the columns already present in the dataset\n",
    "        \"day\",\n",
    "        \"Downlink-CRM-ClientID\",\n",
    "    ).agg(\n",
    "        # these are the values to be computed\n",
    "        F.countDistinct(\"Downlink-CRM-DeviceID\").alias(\"nb_devices\"),\n",
    "        F.sum(\"nb_records\").alias(\"nb_records\"),\n",
    "        F.sum(\"nb_errors\").alias(\"nb_errors\"),\n",
    "        (F.sum(\"nb_errors\") / F.sum(\"nb_records\") * 100).alias(\"pct_errors\"),\n",
    "    ).sort(\n",
    "        # these are the columns to sort on\n",
    "        F.desc(\"day\"),\n",
    "        F.desc(\"nb_records\"),\n",
    "    )\n",
    "    return df\n",
    "\n",
    "def _array_by_client(df):\n",
    "    dtype_by_client = [\n",
    "        ('day', 'int'),\n",
    "        ('Downlink-CRM-ClientID', '<U10'),\n",
    "        #('CRM-DeviceID', '<U64'),\n",
    "        ('nb_devices', 'int'),\n",
    "        ('nb_records', 'int'),\n",
    "        ('nb_errors', 'int'),\n",
    "        ('pct_errors', 'float')\n",
    "    ]\n",
    "    array = np.array(df.collect(), dtype=dtype_by_client)\n",
    "    return array\n",
    "\n",
    "def _array_by_device(df):\n",
    "    dtype_by_client = [\n",
    "        ('day', 'int'),\n",
    "        ('Downlink-CRM-ClientID', '<U10'),\n",
    "        ('Downlink-CRM-DeviceID', '<U64'),\n",
    "        ('nb_records', 'int'),\n",
    "        ('nb_errors', 'int'),\n",
    "        ('pct_errors', 'float')\n",
    "    ]\n",
    "    array = np.array(df.collect(), dtype=dtype_by_client)\n",
    "    return array\n",
    "\n",
    "def _array_by_device_by_hour(df):\n",
    "    dtype_by_client = [\n",
    "        ('day', 'int'),\n",
    "        ('hour', 'int'),\n",
    "        ('Downlink-CRM-ClientID', '<U10'),\n",
    "        ('Downlink-CRM-DeviceID', '<U64'),\n",
    "        ('nb_records', 'int'),\n",
    "        ('nb_errors', 'int'),\n",
    "        ('pct_errors', 'float')\n",
    "    ]\n",
    "    array = np.array(df.collect(), dtype=dtype_by_client)\n",
    "    return array\n",
    "\n",
    "def scatter_plot(df, day=None, by=\"client\", title=None, axhline=None):\n",
    "    if not title:\n",
    "        title = \"Analysis by {}. \".format(by)\n",
    "    if by == \"client\":\n",
    "        df = _group_by_client(df)\n",
    "        array = _array_by_client(df)\n",
    "    else:\n",
    "        array = _array_by_device(df)\n",
    "    if day and day != 29:\n",
    "        title += \"Day: {}\".format(day)\n",
    "        array = array[np.where(array['day'] == day)]\n",
    "        x_min=-0.2\n",
    "        x_max=5\n",
    "        y_min=0\n",
    "        y_max=4000\n",
    "    else:\n",
    "        if day == 29:\n",
    "            array = array[np.where(array['day'] == day)]\n",
    "            title += \"Day: {}\".format(day)\n",
    "        else:\n",
    "            title = \"All days\"\n",
    "        x_min=None\n",
    "        x_max=None\n",
    "        y_min=None\n",
    "        y_max=None\n",
    "    _scatter_plot(\n",
    "        labels=array['Downlink-CRM-ClientID'] if by == \"client\" else [],\n",
    "        x_axis=array['pct_errors'],\n",
    "        y_axis=array['nb_records'],\n",
    "        points_size=array['nb_devices'] if by == \"client\" else 1,\n",
    "        x_min=x_min,\n",
    "        x_max=x_max,\n",
    "        y_min=y_min,\n",
    "        y_max=y_max,\n",
    "        title=title,\n",
    "        color=[\"orange\" if di == \"Evil\" else \"b\" for di in array['Downlink-CRM-ClientID']],\n",
    "        axhline=axhline,\n",
    "    )\n"
   ]
  },
  {
   "cell_type": "code",
   "execution_count": 54,
   "metadata": {},
   "outputs": [
    {
     "data": {
      "image/png": "[encoded data removed]",
      "text/plain": [
       "<Figure size 432x288 with 1 Axes>"
      ]
     },
     "metadata": {
      "needs_background": "light"
     },
     "output_type": "display_data"
    }
   ],
   "source": [
    "# you do not need to change the content of this cell\n",
    "scatter_plot(df_joins_by_devices, day=27, by=\"client\")"
   ]
  },
  {
   "cell_type": "code",
   "execution_count": 55,
   "metadata": {},
   "outputs": [
    {
     "data": {
      "image/png": "[encoded data removed]",
      "text/plain": [
       "<Figure size 432x288 with 1 Axes>"
      ]
     },
     "metadata": {
      "needs_background": "light"
     },
     "output_type": "display_data"
    }
   ],
   "source": [
    "# you do not need to change the content of this cell\n",
    "scatter_plot(df_joins_by_devices, day=28, by=\"client\")"
   ]
  },
  {
   "cell_type": "code",
   "execution_count": 56,
   "metadata": {},
   "outputs": [
    {
     "data": {
      "image/png": "[encoded data removed]",
      "text/plain": [
       "<Figure size 432x288 with 1 Axes>"
      ]
     },
     "metadata": {
      "needs_background": "light"
     },
     "output_type": "display_data"
    }
   ],
   "source": [
    "# you do not need to change the content of this cell\n",
    "scatter_plot(df_joins_by_devices, day=29, by=\"client\")"
   ]
  },
  {
   "cell_type": "markdown",
   "metadata": {},
   "source": [
    "Note that the scale of the attacks completely changes on the day of the attack.\n",
    "\n",
    "We will now look at the same data plotted by device."
   ]
  },
  {
   "cell_type": "code",
   "execution_count": 57,
   "metadata": {},
   "outputs": [
    {
     "data": {
      "image/png": "[encoded data removed]",
      "text/plain": [
       "<Figure size 432x288 with 1 Axes>"
      ]
     },
     "metadata": {
      "needs_background": "light"
     },
     "output_type": "display_data"
    }
   ],
   "source": [
    "# you do not need to change the content of this cell\n",
    "scatter_plot(df_joins_by_devices, day=28, by=\"device\")"
   ]
  },
  {
   "cell_type": "code",
   "execution_count": 58,
   "metadata": {},
   "outputs": [
    {
     "data": {
      "image/png": "[encoded data removed]",
      "text/plain": [
       "<Figure size 432x288 with 1 Axes>"
      ]
     },
     "metadata": {
      "needs_background": "light"
     },
     "output_type": "display_data"
    }
   ],
   "source": [
    "# you do not need to change the content of this cell\n",
    "scatter_plot(df_joins_by_devices, day=29, by=\"device\")"
   ]
  },
  {
   "cell_type": "code",
   "execution_count": 59,
   "metadata": {},
   "outputs": [
    {
     "data": {
      "image/png": "[encoded data removed]",
      "text/plain": [
       "<Figure size 432x288 with 1 Axes>"
      ]
     },
     "metadata": {
      "needs_background": "light"
     },
     "output_type": "display_data"
    }
   ],
   "source": [
    "# you do not need to change the content of this cell\n",
    "scatter_plot(df_joins_by_devices, by=\"device\")"
   ]
  },
  {
   "cell_type": "code",
   "execution_count": 60,
   "metadata": {},
   "outputs": [
    {
     "data": {
      "image/png": "[encoded data removed]",
      "text/plain": [
       "<Figure size 432x288 with 1 Axes>"
      ]
     },
     "metadata": {
      "needs_background": "light"
     },
     "output_type": "display_data"
    }
   ],
   "source": [
    "# you do not need to change the content of this cell\n",
    "scatter_plot(df_joins_by_devices, by=\"device\")"
   ]
  },
  {
   "cell_type": "markdown",
   "metadata": {},
   "source": [
    "The last plot contains the amount of join requests by device on all days. Evil's devices appear in orange. The devices of the other clients appear in blue.\n",
    "\n",
    "Evil's device clearly appear to be problematic. Now, we must prove it algorithmically. For this, we will switch to `numpy`.\n",
    "\n",
    "### Python arrays (numpy)\n",
    "\n",
    "NumPy is the fundamental package for scientific computing with Python. It contains among other things:\n",
    "* a powerful N-dimensional array object\n",
    "* sophisticated (broadcasting) functions\n",
    "* tools for integrating C/C++ and Fortran code\n",
    "* useful linear algebra, Fourier transform, and random number capabilities\n",
    "\n",
    "(from https://www.numpy.org/).\n",
    "\n",
    "We will use numpy to handle arrays and vectorize our functions. Here are a few examples of how to use numpy arrays.\n",
    "\n",
    "To create a 3x2 matrix:"
   ]
  },
  {
   "cell_type": "code",
   "execution_count": 61,
   "metadata": {},
   "outputs": [
    {
     "data": {
      "text/plain": [
       "array([[0., 0.],\n",
       "       [0., 0.],\n",
       "       [0., 0.]])"
      ]
     },
     "execution_count": 61,
     "metadata": {},
     "output_type": "execute_result"
    }
   ],
   "source": [
    "# you do not need to change the content of this cell\n",
    "np.zeros(shape=(3, 2))"
   ]
  },
  {
   "cell_type": "code",
   "execution_count": 89,
   "metadata": {},
   "outputs": [
    {
     "data": {
      "text/plain": [
       "3"
      ]
     },
     "execution_count": 89,
     "metadata": {},
     "output_type": "execute_result"
    }
   ],
   "source": [
    "# you do not need to change the content of this cell\n",
    "M = np.array([\n",
    "    [1.1, 1.2],\n",
    "    [2.1, 2.2],\n",
    "    [3.1, 3.2]\n",
    "])\n",
    "M"
   ]
  },
  {
   "cell_type": "markdown",
   "metadata": {},
   "source": [
    "Matrices elements can be accessed by their index."
   ]
  },
  {
   "cell_type": "code",
   "execution_count": 63,
   "metadata": {},
   "outputs": [
    {
     "data": {
      "text/plain": [
       "2.2"
      ]
     },
     "execution_count": 63,
     "metadata": {},
     "output_type": "execute_result"
    }
   ],
   "source": [
    "# you do not need to change the content of this cell\n",
    "M[1][1]  # Pyhton starts indexing at 0"
   ]
  },
  {
   "cell_type": "code",
   "execution_count": 64,
   "metadata": {},
   "outputs": [
    {
     "data": {
      "text/plain": [
       "3.1"
      ]
     },
     "execution_count": 64,
     "metadata": {},
     "output_type": "execute_result"
    }
   ],
   "source": [
    "# you do not need to change the content of this cell\n",
    "M[2][0]"
   ]
  },
  {
   "cell_type": "markdown",
   "metadata": {},
   "source": [
    "To select entires rows or columns, use a semicolon."
   ]
  },
  {
   "cell_type": "code",
   "execution_count": 65,
   "metadata": {},
   "outputs": [
    {
     "data": {
      "text/plain": [
       "array([1.1, 2.1, 3.1])"
      ]
     },
     "execution_count": 65,
     "metadata": {},
     "output_type": "execute_result"
    }
   ],
   "source": [
    "# you do not need to change the content of this cell\n",
    "M[:,0]  # every row, column 0"
   ]
  },
  {
   "cell_type": "code",
   "execution_count": 66,
   "metadata": {},
   "outputs": [
    {
     "data": {
      "text/plain": [
       "array([2.1, 2.2])"
      ]
     },
     "execution_count": 66,
     "metadata": {},
     "output_type": "execute_result"
    }
   ],
   "source": [
    "# you do not need to change the content of this cell\n",
    "M[1,:]  # second row, all columns"
   ]
  },
  {
   "cell_type": "markdown",
   "metadata": {},
   "source": [
    "To get the min or max value of a matrix, use the min and max functions. An axis can be specified."
   ]
  },
  {
   "cell_type": "code",
   "execution_count": 67,
   "metadata": {},
   "outputs": [
    {
     "data": {
      "text/plain": [
       "1.1"
      ]
     },
     "execution_count": 67,
     "metadata": {},
     "output_type": "execute_result"
    }
   ],
   "source": [
    "# you do not need to change the content of this cell\n",
    "M.min()"
   ]
  },
  {
   "cell_type": "code",
   "execution_count": 68,
   "metadata": {},
   "outputs": [
    {
     "data": {
      "text/plain": [
       "array([3.1, 3.2])"
      ]
     },
     "execution_count": 68,
     "metadata": {},
     "output_type": "execute_result"
    }
   ],
   "source": [
    "# you do not need to change the content of this cell\n",
    "M.max(axis=0)  # max for each column"
   ]
  },
  {
   "cell_type": "code",
   "execution_count": 69,
   "metadata": {},
   "outputs": [
    {
     "data": {
      "text/plain": [
       "array([1.1, 2.1, 3.1])"
      ]
     },
     "execution_count": 69,
     "metadata": {},
     "output_type": "execute_result"
    }
   ],
   "source": [
    "# you do not need to change the content of this cell\n",
    "M.min(axis=1)  # min for each row"
   ]
  },
  {
   "cell_type": "markdown",
   "metadata": {},
   "source": [
    "A scalar can be added to or subtracted from a matrix. A matrix can be multiplied of divided by a scalar. "
   ]
  },
  {
   "cell_type": "code",
   "execution_count": 70,
   "metadata": {},
   "outputs": [
    {
     "data": {
      "text/plain": [
       "array([[2.1, 2.2],\n",
       "       [3.1, 3.2],\n",
       "       [4.1, 4.2]])"
      ]
     },
     "execution_count": 70,
     "metadata": {},
     "output_type": "execute_result"
    }
   ],
   "source": [
    "# you do not need to change the content of this cell\n",
    "1 + M"
   ]
  },
  {
   "cell_type": "code",
   "execution_count": 71,
   "metadata": {},
   "outputs": [
    {
     "data": {
      "text/plain": [
       "array([[0.1, 0.2],\n",
       "       [1.1, 1.2],\n",
       "       [2.1, 2.2]])"
      ]
     },
     "execution_count": 71,
     "metadata": {},
     "output_type": "execute_result"
    }
   ],
   "source": [
    "# you do not need to change the content of this cell\n",
    "M - 1"
   ]
  },
  {
   "cell_type": "code",
   "execution_count": 72,
   "metadata": {},
   "outputs": [
    {
     "data": {
      "text/plain": [
       "array([[2.2, 2.4],\n",
       "       [4.2, 4.4],\n",
       "       [6.2, 6.4]])"
      ]
     },
     "execution_count": 72,
     "metadata": {},
     "output_type": "execute_result"
    }
   ],
   "source": [
    "# you do not need to change the content of this cell\n",
    "M * 2"
   ]
  },
  {
   "cell_type": "code",
   "execution_count": 73,
   "metadata": {},
   "outputs": [
    {
     "data": {
      "text/plain": [
       "array([[0.55, 0.6 ],\n",
       "       [1.05, 1.1 ],\n",
       "       [1.55, 1.6 ]])"
      ]
     },
     "execution_count": 73,
     "metadata": {},
     "output_type": "execute_result"
    }
   ],
   "source": [
    "# you do not need to change the content of this cell\n",
    "M / 2"
   ]
  },
  {
   "cell_type": "markdown",
   "metadata": {},
   "source": [
    "To add or subtract matrices:"
   ]
  },
  {
   "cell_type": "code",
   "execution_count": 14,
   "metadata": {},
   "outputs": [],
   "source": [
    "# you do not need to change the content of this cell\n",
    "M1 = np.array([\n",
    "    [1, 2],\n",
    "    [3, 4]\n",
    "])"
   ]
  },
  {
   "cell_type": "code",
   "execution_count": 15,
   "metadata": {},
   "outputs": [],
   "source": [
    "# you do not need to change the content of this cel\n",
    "M2 = np.array([\n",
    "    [1, 0],\n",
    "    [0, 1]\n",
    "])"
   ]
  },
  {
   "cell_type": "code",
   "execution_count": 17,
   "metadata": {},
   "outputs": [
    {
     "data": {
      "text/plain": [
       "array([[2, 2],\n",
       "       [3, 5]])"
      ]
     },
     "execution_count": 17,
     "metadata": {},
     "output_type": "execute_result"
    }
   ],
   "source": [
    "# you do not need to change the content of this cell\n",
    "M1 + M2"
   ]
  },
  {
   "cell_type": "code",
   "execution_count": 77,
   "metadata": {},
   "outputs": [
    {
     "data": {
      "text/plain": [
       "array([[0, 2],\n",
       "       [3, 3]])"
      ]
     },
     "execution_count": 77,
     "metadata": {},
     "output_type": "execute_result"
    }
   ],
   "source": [
    "# you do not need to change the content of this cell\n",
    "M1 - M2"
   ]
  },
  {
   "cell_type": "markdown",
   "metadata": {},
   "source": [
    "You can multiply matrices element wise."
   ]
  },
  {
   "cell_type": "code",
   "execution_count": 78,
   "metadata": {},
   "outputs": [
    {
     "data": {
      "text/plain": [
       "array([[1, 0],\n",
       "       [0, 4]])"
      ]
     },
     "execution_count": 78,
     "metadata": {},
     "output_type": "execute_result"
    }
   ],
   "source": [
    "# you do not need to change the content of this cell\n",
    "M1 * M2"
   ]
  },
  {
   "cell_type": "markdown",
   "metadata": {},
   "source": [
    "For classical matrix multiplication, use the @ symbol."
   ]
  },
  {
   "cell_type": "code",
   "execution_count": 79,
   "metadata": {},
   "outputs": [
    {
     "name": "stdout",
     "output_type": "stream",
     "text": [
      "[[1 2]\n",
      " [3 4]]\n",
      "[[1 2]\n",
      " [3 4]]\n"
     ]
    }
   ],
   "source": [
    "# you do not need to change the content of this cell\n",
    "M12 = M1 @ M2\n",
    "print(M12)\n",
    "# Or you can use np.dot\n",
    "M12 = np.dot(M1, M2)\n",
    "print(M12)"
   ]
  },
  {
   "cell_type": "markdown",
   "metadata": {},
   "source": [
    "To replace elements in matrices: use the `where` function (https://docs.scipy.org/doc/numpy/reference/generated/numpy.where.html)."
   ]
  },
  {
   "cell_type": "code",
   "execution_count": 81,
   "metadata": {},
   "outputs": [
    {
     "data": {
      "text/plain": [
       "array([[ 1,  2],\n",
       "       [72,  4]])"
      ]
     },
     "execution_count": 81,
     "metadata": {},
     "output_type": "execute_result"
    }
   ],
   "source": [
    "# you do not need to change the content of this cell\n",
    "M3 = np.where(M1==3, 72, M1)\n",
    "M3"
   ]
  },
  {
   "cell_type": "markdown",
   "metadata": {},
   "source": [
    "To sort an array, use `argsort`. `argsort` will return a sorted array containing the indices of the members."
   ]
  },
  {
   "cell_type": "code",
   "execution_count": 85,
   "metadata": {},
   "outputs": [
    {
     "data": {
      "text/plain": [
       "array([1, 2, 0])"
      ]
     },
     "execution_count": 85,
     "metadata": {},
     "output_type": "execute_result"
    }
   ],
   "source": [
    "M4 = np.array([3, 1, 2])\n",
    "np.argsort(M4)"
   ]
  },
  {
   "cell_type": "markdown",
   "metadata": {},
   "source": [
    "We load our spark dataframe as a numpy array."
   ]
  },
  {
   "cell_type": "code",
   "execution_count": 9,
   "metadata": {},
   "outputs": [
    {
     "name": "stdout",
     "output_type": "stream",
     "text": [
      "[(29, 'Evil', 'f8d07a11-7191-4523-bd85-464c2b9c2883', 5.918e+03, 3054., 51.60527205)\n",
      " (29, 'Evil', 'b4069cee-5796-415b-8344-52e9a92a24e5', 5.757e+03, 2957., 51.36355741)\n",
      " (29, 'Evil', '9ec9344a-a760-4605-b5ee-c234f30def49', 5.701e+03, 2904., 50.93843185)\n",
      " ...\n",
      " (27, 'Delta', '09b1b93d-f915-4dba-b054-6c7fcc57d6d9', 2.000e+00,    0.,  0.        )\n",
      " (27, 'Iota', '346bc7fb-8210-4765-8d5c-cf2bb5c17348', 1.000e+00,    0.,  0.        )\n",
      " (27, 'Gamma', '0e5d7e0e-e431-48a3-b1e6-dfbdcd325c5a', 1.000e+00,    0.,  0.        )]\n"
     ]
    }
   ],
   "source": [
    "# you do not need to change the content of this cell\n",
    "array = np.load('./data/array_joins_by_devices.npy') # load\n",
    "print(array)"
   ]
  },
  {
   "cell_type": "markdown",
   "metadata": {},
   "source": [
    "Before runing any machine learning algorithms, we should normalize our data. We will implement the Min-Max Feature scaling function, which brings all values X into the range \\[a,b\\] (usually \\[0,1\\]).\n",
    "\n",
    "The formula is:\n",
    "\n",
    "![min_max_scaling](./images/min_max_scaling.svg)"
   ]
  },
  {
   "cell_type": "code",
   "execution_count": 10,
   "metadata": {},
   "outputs": [],
   "source": [
    "# you must change the content of this cell\n",
    "\n",
    "def min_max_scaling(X:np.ndarray, a:float, b:float) -> np.ndarray:\n",
    "    \"\"\"\n",
    "    This function normalizes numerical columns. Feature scaling brings all values into the range [a,b].\n",
    "    \n",
    "    Parameters\n",
    "    ----------\n",
    "    X : np.array\n",
    "        A numpy array.\n",
    "    a : float\n",
    "        The min value.\n",
    "    b : float\n",
    "        The max value\n",
    "        \n",
    "    Returns\n",
    "    -------\n",
    "    scaled_array : np.array\n",
    "        The array after scaling.\n",
    "    \"\"\"\n",
    "    scaled_array=a+(X-min(X))*(b-a)/(max(X)-min(X))\n",
    "    \n",
    "    \n",
    "    return scaled_array"
   ]
  },
  {
   "cell_type": "code",
   "execution_count": 11,
   "metadata": {},
   "outputs": [],
   "source": [
    "# you do not need to change the content of this cell\n",
    "# note: in this cell, we use numpy structured arrays, which allow to name columns (scaled_array[\"nb_records\"]).\n",
    "# we will not use this feature anymore.\n",
    "scaled_array = np.copy(array)\n",
    "scaled_array[\"nb_records\"] = min_max_scaling(scaled_array[\"nb_records\"][:,np.newaxis], 0., 1.)[:,0]\n",
    "scaled_array[\"nb_errors\"] = min_max_scaling(scaled_array[\"nb_errors\"][:,np.newaxis], 0., 1.)[:,0]"
   ]
  },
  {
   "cell_type": "code",
   "execution_count": 12,
   "metadata": {},
   "outputs": [
    {
     "data": {
      "image/png": "[encoded data removed]",
      "text/plain": [
       "<Figure size 432x288 with 1 Axes>"
      ]
     },
     "metadata": {
      "needs_background": "light"
     },
     "output_type": "display_data"
    }
   ],
   "source": [
    "# you do not need to change the content of this cell\n",
    "_scatter_plot(labels=[], x_axis=scaled_array[\"nb_records\"], y_axis=scaled_array[\"nb_errors\"], color=[\"orange\" if di == \"Evil\" else \"b\" for di in scaled_array['Downlink-CRM-ClientID']], title=\"All days, with feature scaling\")"
   ]
  },
  {
   "cell_type": "markdown",
   "metadata": {},
   "source": [
    "# Local Outlier Factor\n",
    "\n",
    "\n",
    "## Introduction\n",
    "\n",
    "Today, we will implement the Local Outlier Factor (LOF) algorithm. \n",
    "\n",
    "The LOF algorithm is an outlier detection alorithm. Here is Hawkins’s definition of outliers: \"An outlier is an observation which deviates so much from the other observations as to arouse suspicions that it was generated by a different mechanism.\"\n",
    " \n",
    "You can find the original paper describing the LOF algorithm here: https://www.dbs.ifi.lmu.de/Publikationen/Papers/LOF.pdf. The Wikipedia page about the LOF is also a good resource: https://en.wikipedia.org/wiki/Local_outlier_factor.\n",
    "\n",
    "\n",
    "## Main idea\n",
    "\n",
    "The aim of the LOF algorithm is to find outliers in a set of data. The LOF algorithm solves this problem by calculating the distance between densities of points. The idea is to associate **each point** to a **coefficient** called **Local Outlier Factor** (note the ambiguity between LOF as coefficient and LOF as algorithm). This coefficient indicates \"how much\" the point can be considered as an outlier.\n",
    "\n",
    "### A naive approach\n",
    "\n",
    "The distance between points is frequently used as a clue of outliner-ness. For instance, in the following image, one may rationaly suspect the point A to be an outlier.\n",
    "\n",
    "![simple_dist](./images/simpledist.png)\n",
    "\n",
    "But let us have a look at the following picture:\n",
    "\n",
    "![density_dist](./images/densitydist.png)\n",
    "\n",
    "An naive distance-only algorithm would either:\n",
    "* not identify A as an outlier, because the distance that separates it from the closest group of points is not larger than the distance between the points in the upper group, or\n",
    "* identify A and all the points in the upper group as outliers.\n",
    "\n",
    "It is, however, quite usual that in a given pattern, some values are more \"sparse\" than others and these points are not especially outliers.\n",
    "\n",
    "\n",
    "### The Idea behind the LOF\n",
    "\n",
    "The LOF algorithm goes one step further and compares \"how isolated\" is a point in comparison to  how its neighbours points are isolated. If a point is \"more isolated\" than its neighbours \"are isolated\" it is considered as an outlier.\n",
    "\n",
    "## Mathematical formulation: \n",
    "\n",
    "Let us consider a data set $D = \\{x_1, \\dots, x_n \\}$ which elements are points in $\\mathbb{R}^N$. And let us note the (Euclidean) distances between points $A$ and $B$ as $d(A, B)$.\n",
    "\n",
    "We define the **$k$-distance** of $A$ as the distance from $A$ to its $k^{th}$-nearest point: $D_{k}(A)$.\n",
    "\n",
    "We define the **$k$-neighbours** of $A$, the set $N_{k}(A)$ of all points that are not further from $A$ than $D_k(a)$:\n",
    "\n",
    "$$ N_{k}(A) = \\{ B \\in D | d(A, B) \\leq d_{k}(A) \\} $$\n",
    "\n",
    "Note that $N_{k}(A)$ may contain more than $k$ points.\n",
    "\n",
    "The **reachability distance** between $A$ and $B$ is defined as \n",
    "\n",
    "$$ RD(A, B) = max(D_{k}(B), d(A, B)) $$\n",
    "\n",
    "Note that the $RD$ is the usual distance between $A$ and $B$ if $A$ is not in $N_{k}(B)$ and is equal to $D_{k}(B)$ otherwise.\n",
    "\n",
    "<img src=\"./images/LOF2.jpg\" alt=\"Naive LOF\" width=\"400\"/>\n",
    "\n",
    "In fact, the $LOF$ algorithm would also make sense with a usual distance. However, the use of $RD$ has proven to give more stable results (a few very close points will not lead to extreme densities). \n",
    "\n",
    "**BE CAREFULL:** In a strict mathematical definition, this is not a distance!!!\n",
    "\n",
    "$RD$ is not symmetric, which is one of the axions of a mathematical distance. \n",
    "\n",
    "It is possible than for example $A$ is in $N_{k}(B)$, but $B$ is not in $N_{k}(A)$.\n",
    "\n",
    "In this case: \n",
    "\n",
    "$$RD(A,B) = D_k(B)\\geq d(A,B)$$\n",
    "$$RD(B,A) = d(A,B)$$\n",
    "\n",
    "Then, we define the **local reachability density** of $A$ as \n",
    "\n",
    "$$ LRD_{k}(A) = \\frac{|N_k(A)|}{\\sum_{B \\in N_{k}(A)}RD_{k}(A, B)} $$\n",
    "\n",
    "Which is basically the inverse of the mean of the $RD$'s of $A$ from its $k$-neighbours.\n",
    "If for example $A$ is more isolated than its neighbours, they will have in general a larger $LRD$ than $A$. The $LRD$ can be seen as an indicator of how closely sourounded a points is by its closest $k$-neighbours.\n",
    "\n",
    "Finally, we define the **Local Outlier Factor** as\n",
    "\n",
    "$$ LOF_{k}(A) = \\frac{\\sum_{B \\in N_{k}(A)}LRD_{k}(B)}{|N_k(A)|LRD_{k}(A)} $$\n",
    "\n",
    "which correponds to the mean of the $LRD$ of $N_{k}(A)$ compared to the $LRD$ of $A$. So, it compares how mush a point is closely related to its neighbours than its neighors are closely related to their neighbours.\n",
    "\n",
    "In other words, it compares the $LRD$ of $A$ to the $LRD$ of its neighbours.\n",
    "\n",
    "So, we have defined the $LOF$ coefficient for each point. \n",
    "\n",
    "If $LOF(A)$ is **around $1$ or smaller**, the point is **not an outlier**.\n",
    "\n",
    "If $LOF(A)$ is much **larger than $1$** (we can choose a threshold), then it can be considered as an **outlier**.\n",
    "\n",
    "### Visualization\n",
    "\n",
    "The following image can give you a visual intuition of the LOF:\n",
    "\n",
    "<img src=\"./images/LOF3.png\" alt=\"LOF\" width=\"400\"/>\n",
    "(Image from: https://en.wikipedia.org/wiki/Local_outlier_factor)\n",
    "\n",
    "In this image, $A$ seems isolated form the cluster of points on the right, so the $LRD$ of $A$ is smaller than the $LRD$ of the points on the right. This leads to a larger $LOF$.\n",
    "\n",
    "Indeed, the neighbours of the points in the cluster are other points from the cluster, and their $RD$ are generally smaller. $A$ consider them as its neighbours, but they do not consider $A$ as they neighbour, since they have colser ones.\n",
    "\n",
    "\n",
    "In the following plot, we show the points with a size that increases as the $LOF$ (with $k=5$) of the point increases.\n",
    "\n",
    "<img src=\"./images/LOF4.jpg\" alt=\"LOF\" width=\"550\"/>\n",
    "\n",
    "We see that the average size of the points of the cluster in the top-left corner is not really different from the average size of the points in the bottom-right corner, even if the two groups have different **densities**.\n",
    "On the other hand, the tree isolated points are here clearly detected as ouliers.\n",
    "\n",
    "The LOF algorithm requires (numerical) points. In our case, `nb_records` and `nb_errors`. "
   ]
  },
  {
   "cell_type": "code",
   "execution_count": 74,
   "metadata": {},
   "outputs": [
    {
     "name": "stdout",
     "output_type": "stream",
     "text": [
      "[[       inf 1.         0.5        0.33333333]\n",
      " [0.25       0.2        0.16666667 0.14285714]\n",
      " [0.125      0.11111111 0.1        0.09090909]]\n"
     ]
    },
    {
     "name": "stderr",
     "output_type": "stream",
     "text": [
      "<ipython-input-74-a8996413b509>:12: RuntimeWarning: divide by zero encountered in true_divide\n",
      "  print(1/x)\n"
     ]
    }
   ],
   "source": [
    "# you do not need to change the content of this cell\n",
    "points = np.empty(shape=(scaled_array.shape[0], 2), dtype=np.float)\n",
    "points[:,0] = scaled_array[\"nb_records\"]\n",
    "points[:,1] = scaled_array[\"nb_errors\"]\n",
    "distMat=np.linalg.norm(points - points[:,None], axis = -1)\n",
    "A=distMat.argsort()[:,:100]\n",
    "kFirstDist = np.empty(shape=(len(points),100), dtype=np.float)\n",
    "for i in range(len(points)):\n",
    "    for j in range(100):\n",
    "        kFirstDist[i,j]=distMat[i,A[i,j]]\n"
   ]
  },
  {
   "cell_type": "markdown",
   "metadata": {},
   "source": [
    "LOF receives two parameters:\n",
    "* `points`\n",
    "* `k` the numbers of neighbours we consider for all the points.\n",
    "\n",
    "You can code tje LOF by using loops or vectorized functions of numpy. Note that generally the vectorized functions are mush faster than loops, but if you don't feel comfortable with numpy, feel free to use loops.\n",
    "\n",
    "**Remark:**\n",
    "\n",
    "The skeleton of our LOF algorithm seems to suggest that the set of neighbour, $N_k(A)$ of a point $A$ always contains exactly $k$ elements. Which is, as mentioned previously, not always the case.  \n",
    "For simplicity, we accept that you forget about this problem for now. However, if you have some time left, feel free to implement a version of the LOF algorithm that can handle the case when $|N_k(A)| \\neq k$."
   ]
  },
  {
   "cell_type": "code",
   "execution_count": 89,
   "metadata": {},
   "outputs": [],
   "source": [
    "# you must change the content of this cell\n",
    "\n",
    "def LOF(points:np.ndarray, k:int) -> np.ndarray:\n",
    "    n = len(points)\n",
    "    # (1) -----------------------------------------------------------------------------\n",
    "    # Find distance matrix:                                               (n, n)-matrix\n",
    "    distMat = np.linalg.norm(points - points[:,None], axis = -1)  # L2 norm\n",
    "    \n",
    "    # (2) -----------------------------------------------------------------------------\n",
    "    # Find k nearest points id matrix sorted by order:                    (n, k)-matrix\n",
    "    kFirstNeib = distMat.argsort()[:,:k]\n",
    "    # Find k nearest point-distances\n",
    "    kFirstDist = np.empty(shape=(n,k), dtype=np.float)\n",
    "    for i in range(n):\n",
    "        for j in range(k):\n",
    "            kFirstDist[i,j]=distMat[i,kFirstNeib[i,j]]\n",
    "    \n",
    "    # (3) -----------------------------------------------------------------------------\n",
    "    # Find k-distances                                                          n-array\n",
    "    kD = kFirstDist[:,-1]\n",
    "    # Find reachability distances                                        (n, k)-matrix    \n",
    "    RD = np.empty(shape=(n,k), dtype=np.float)\n",
    "    for i in range(n):\n",
    "        for j in range(k):\n",
    "            RD[i,j]=max(kD[j],kFirstDist[i,j])\n",
    "    # (4) -----------------------------------------------------------------------------\n",
    "    # Find local reachability distances                                         n-array        \n",
    "    RDmean = np.mean(RD, 1)\n",
    "    LRD = 1/RDmean\n",
    "    \n",
    "    # (5) -----------------------------------------------------------------------------\n",
    "    # Find local outlier factor                                                 n-array\n",
    "    LRDmean=np.mean(LRD)\n",
    "    lof = LRDmean/LRD\n",
    "    \n",
    "    return lof"
   ]
  },
  {
   "cell_type": "code",
   "execution_count": 90,
   "metadata": {},
   "outputs": [],
   "source": [
    "lof_scores = LOF(points, k=20)"
   ]
  },
  {
   "cell_type": "code",
   "execution_count": 91,
   "metadata": {},
   "outputs": [
    {
     "data": {
      "image/png": "[encoded data removed]",
      "text/plain": [
       "<Figure size 432x288 with 1 Axes>"
      ]
     },
     "metadata": {
      "needs_background": "light"
     },
     "output_type": "display_data"
    }
   ],
   "source": [
    "# you do not need to change the content of this cell\n",
    "_scatter_plot(\n",
    "    labels=[\"Evil\" if di == \"Evil\" else None for di in scaled_array['Downlink-CRM-ClientID']],\n",
    "    x_axis=array[\"pct_errors\"],\n",
    "    y_axis=array[\"nb_records\"],\n",
    "    color=[\"r\" if s > 1.5 else \"b\" for s in lof_scores],\n",
    "    title=\"Local outlier factor\"\n",
    ")"
   ]
  },
  {
   "cell_type": "markdown",
   "metadata": {},
   "source": [
    " End"
   ]
  }
 ],
 "metadata": {
  "interpreter": {
   "hash": "f6246b25e200e4c5124e3e61789ac81350562f0761bbcf92ad9e48654207659c"
  },
  "kernelspec": {
   "display_name": "Python 3 (ipykernel)",
   "language": "python",
   "name": "python3"
  },
  "language_info": {
   "codemirror_mode": {
    "name": "ipython",
    "version": 3
   },
   "file_extension": ".py",
   "mimetype": "text/x-python",
   "name": "python",
   "nbconvert_exporter": "python",
   "pygments_lexer": "ipython3",
   "version": "3.9.12"
  }
 },
 "nbformat": 4,
 "nbformat_minor": 2
}
