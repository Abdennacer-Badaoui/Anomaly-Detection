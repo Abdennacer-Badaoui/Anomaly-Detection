{
 "cells": [
  {
   "cell_type": "code",
   "execution_count": null,
   "metadata": {},
   "outputs": [],
   "source": [
    "%load_ext autoreload\n",
    "%autoreload 2"
   ]
  },
  {
   "cell_type": "markdown",
   "metadata": {},
   "source": [
    "# Anomaly detection with autoencoder\n",
    "\n",
    "Today, we will detect anomalies in another dataset containing devices logs. The devices are supposed to send a payload every hour. As we will see, some devices disappear from the network from time to time. We will build an algorithm to predict these failures: an autoencoder.  \n",
    "An autoencore is a particular type of Feedforward Neural Networks (FNN). So, let us first have a look on what a FNN is. "
   ]
  },
  {
   "cell_type": "markdown",
   "metadata": {},
   "source": [
    "## Feedforward Neural Network \n",
    "\n",
    "The explanations on FNN are given in the PDF file \"FNN-intro.pdf\". Try to understand the main ideas in this paper, but we keep in mind that the topic of Neural Nework is very large and can be difficult to fully understand \n",
    "at first sight.\n",
    "\n",
    "Here is a summary of the PDF.\n",
    "\n",
    "The FNN aims to build a **prediction function** based on a **labelled data set**.\n",
    "The data set $D$ is composed of points $p=(x,y)$ where $x \\in \\mathbb{R}^{I}$ is the \"input\" and $y \\in \\mathbb{R}^{O}$ is the \"label\" (or output). For example, the MNIST data base is composed of $x$ values that are tables of $28 \\times 28 = 784$ pixels that represent a black and white handwritten digit and of $y$ values of digits represented as an array of $9$ zeros with a $1$ in the index that corresponds to the written digit. For example a $3$ will be represented as $[0, 0, 0, 1, 0, 0, 0, 0, 0, 0]$.\n",
    "\n",
    "A FNN is composed of an input layer, of $(L-1)\\in \\mathbb{N}$ hidden layers and of an output layer. We note the dimension of layer $l$ as $n_l$.  \n",
    "For coherence with the data, we have that the first layer ($l=0$) is of the same size that the input and the last layer ($l=L$) is of the size of the output. So, we have $n_0=I$ and $n_L=O$.\n",
    "\n",
    "<img src=\"./images/FNN.jpg\" alt=\"FNN\" width=\"500\"/>\n",
    "(src: https://neuralnetworksanddeeplearning.com/chap1.html)\n",
    "\n",
    "#### Feedforward\n",
    "\n",
    "Let us take a point $p=(x,y)$ where $x$ is the input and $y$ is the label (output, the result to predict).\n",
    "The prediction is the value of the last layer.\n",
    "\n",
    "The fist layer is equal to the input\n",
    "\n",
    "$$\n",
    "a^{(0)} = x\n",
    "$$\n",
    "\n",
    "The value of the layer $l$ is a function of the previous layer $(l-1)$, defined as \n",
    "\n",
    "$$\n",
    "z^{(l)}_j = \\sum_{k} w^{(l)}_{jk} a^{(l-1)}_k + b^{(l)}_j\n",
    "$$\n",
    "\n",
    "$$\n",
    "a^{(l)}_j = \\sigma(z^{(l)}_j)\n",
    "$$\n",
    "\n",
    "or in matrix notation,\n",
    "$$\n",
    "a^{(l)} = \\sigma ( w^{(l)} \\cdot a^{(l-1)} + b^{(l)}).\n",
    "$$\n",
    "\n",
    "where $\\sigma$ is the activation function. Here we will use the sigmoid function,\n",
    "\n",
    "$$\n",
    "\\sigma(z) = \\frac{1}{1 + e^{-z}}.\n",
    "$$\n",
    "We can simply compute the derivative function\n",
    "$$\n",
    "\\sigma '(z) =  \\frac{e^{-z}}{(1 + e^{-z})^{2}} = \\sigma(z) (1 - \\sigma(z)).\n",
    "$$\n",
    "\n",
    "\n",
    "#### Learning\n",
    "\n",
    "The process of learning starts with randomly initialized parameters $P=(w,b)$ (weights and biases). Then at each step (this step is called an **epoch**), we adjust the parameters to $P \\rightarrow P'$ that will give a better prediction on the training data.\n",
    "\n",
    "For that purpose we define the **error** as the distance between the label valyes $y$ and the prediction $a^{L}$.  \n",
    "Here is the value of the error for one point $p$. \n",
    "$$\n",
    "C_p = \\sum_{j=0}^{n_L -1} (a^{(L)}_j - y_j)^2\n",
    "$$\n",
    "The total error is the mean of all the errors, \n",
    "\n",
    "$$\n",
    "C = \\frac{1}{|D|} \\sum_{p \\in D} C_p\n",
    "$$\n",
    "\n",
    "This adjustment is done by the **gradient descent**. The idea is to adjust the parameters in the **direction that minimize the most the error**. The direction that locally minimise the error is the direction of the negative gradient of $C$ with respect to the parameters $P$.  \n",
    "So, at each epoch we adjust the parameters as\n",
    "\n",
    "$$ P' = P - \\alpha \\nabla C,$$\n",
    "\n",
    "where $\\alpha$ is the **learning rate**. It defines how fast the parameters will be adjusted.  \n",
    "\n",
    "Note that the gradient is the vector of the partial derivatives: \n",
    "\n",
    "$$\n",
    "\\nabla C = \\left(\\frac{\\partial C}{\\partial w^{(1)}_{11}}, \\dots, \\frac{\\partial C}{\\partial b^{(1)}_1}, \\dots \\right)\n",
    "$$\n",
    "\n",
    "Here, we provide you, by omitting computation, the equations that gives us the gradient,\n",
    "\n",
    "\\begin{align}\n",
    "\\frac{\\partial C_p}{\\partial w^{(l)}} & = \n",
    "\\frac{\\partial C_p}{\\partial z^{(l)}} \\cdot (a^{(l-1)})^{T} , \\\\\n",
    "\\frac{\\partial C_p}{\\partial b^{(l)}} & = \n",
    "\\frac{\\partial C_p}{\\partial z^{(l)}}, \\\\\n",
    "\\frac{\\partial C_p}{\\partial z^{(L)}} & = 2 (a^{(L)} - y) \\odot \\sigma ' (z^{(L)}), \\\\\n",
    "\\frac{\\partial C_p}{\\partial z^{(l)}} & =\n",
    "\\left( (w^{(l+1)})^{T} \\cdot \\frac{\\partial C_p}{\\partial z^{(l+1)}} \\right) \\odot \\sigma ' (z^{(l)})  && l < L.\n",
    "\\end{align}\n"
   ]
  },
  {
   "cell_type": "markdown",
   "metadata": {},
   "source": [
    "## Autoencoder\n",
    "\n",
    "An autoencoder (AE) is a type of neural network that gets an input and learns to rebuild it, instead of mapping this input to an ouput as a classical NN would do.\n",
    "\n",
    "Moreover, we generally assume that the hidden layers are smaller than the input/output layers. So it will in fact **compress** the data and then **decompress** it again to try to reconstruct the inital input.\n",
    "\n",
    "This seems to be useless, however scientists have found some ways to use it. One of them is the **Outlier Detection**. The idea is the following, first it learns the **autoencode the data**, then each point is sent by the feedforward to its image and we compute its loss (error),\n",
    "\n",
    "$$\n",
    "C_x = |x - x'|².\n",
    "$$\n",
    "\n",
    "The points with a **high loss** are those who are **not well reconstructed** by the Autoencoder and so they can be seen as **outliers**. \n",
    "\n",
    "![AE](./images/Toad.png)\n",
    "\n",
    "(src: https://medium.com/themlblog/deep-autoencoders-using-tensorflow-4f68655c8d08)\n",
    "\n",
    "The idea behind the use of AE as anomaly detection algorithm is quite simple:\n",
    "\n",
    "- an AE that has been trained on inliners will be able to rebuild inliners but not outliers;\n",
    "- the preparation of the data to train an AE is often more straightforward: a classical neural network will require supervision, aka a labeled dataset (with label that actually make sense) while an AE is unsupervised and can be directly used to compute the difference between the input and the output.\n",
    "\n",
    "We will build our autoencoders using \"dummy\" training data points. We have generated randomly distributed normal data of size 300 in 3 dimensions. We use this data instead of logs to make sure our algorithm learns while keeping the computations very fast.\n",
    "\n",
    "We will implement our AE using PyTorch (https://pytorch.org/). PyTorch offers many tools to implement algorithms, ranging from low level functions (ex: matrices multiplication, broadcasting) to pre-made networks expecting only a forward method (eg: https://pytorch.org/tutorials/beginner/nn_tutorial.html#switch-to-cnn).\n",
    "\n",
    "We will go for the low level implementation. The PyTorch low level are the same as numpy's ones, except that `np.ndarray` is replaced by `torch.Tensor`. The syntax of matrix multiplications, element wise addition/multiplication etc. are identical."
   ]
  },
  {
   "cell_type": "markdown",
   "metadata": {},
   "source": [
    "**Warning**  \n",
    "\n",
    "These are quite simple models of FNN and Autoencoder and they are far from the current state of art.\n",
    "\n",
    "The implementation that we propose here is certainly not a good way to do Outlier Detection with Autoencoder. To do it well we should spend much more time to specify our Autoencoder activation function, error (loss) function and a large set of different variations that we can apply to a Neural Network. The aim here is to present the global idea about how a Neural Network can be usefull in an unusual context and at the same time a very clever way to do Outlier Detection. Isn't that amazing?"
   ]
  },
  {
   "cell_type": "code",
   "execution_count": 3,
   "metadata": {},
   "outputs": [],
   "source": [
    "# you do not need to change the content of this cell\n",
    "# load the modules we need\n",
    "from abc import ABC, abstractmethod\n",
    "import matplotlib.pyplot as plt\n",
    "import random\n",
    "from typing import Any, List, Optional, Tuple, Union\n",
    "import torch"
   ]
  },
  {
   "cell_type": "code",
   "execution_count": 4,
   "metadata": {},
   "outputs": [],
   "source": [
    "# you do not need to change the content of this cell\n",
    "# load the training data\n",
    "training_data = torch.load('./data/training_data_points.pt')"
   ]
  },
  {
   "cell_type": "markdown",
   "metadata": {},
   "source": [
    "Here are some guidelines to implement the autoencoder. We will create 4 python classes:\n",
    "    \n",
    "1) Network: contains the methods that are common to both a classical Neural Network and an autoencoder.\n",
    "\n",
    "2) Autoencoder: contains the methods that are proper to an autoencoder.\n",
    "    \n",
    "3) Sigmoid: the sigmoid activation function which we will use for *all* layers except the output layer. \n",
    "    \n",
    "    Since the principle of a NN is a gradient descent due to the feedforward and backpropagation functions, our ActivationFunction class will have two methods: compute and differentiate. The same holds true for the CostFunction.\n",
    "\n",
    "    Note that frameworks like PyTorch and Tensorflow use a Layer class that allows you to use a different activation function for each layer (along with other transformations like dropouts, masks, etc. that are out of the scope of this TD). For the sake of clarity, we will use the sigmoid activation function for all layers and pass it to the __init__ method of the Network class.\n",
    "   \n",
    "4) Mean squared error: the cost function we will apply to the output layer.\n",
    "\n",
    "Refer to the pdf when implemeing your functions."
   ]
  },
  {
   "cell_type": "code",
   "execution_count": 5,
   "metadata": {},
   "outputs": [],
   "source": [
    "# you do not need to change the content of this cell\n",
    "# here we define abstract classes for the activation and cost functions\n",
    "# our clases will inherit their methods\n",
    "\n",
    "class ActivationFunction(ABC):\n",
    "    \n",
    "    @abstractmethod\n",
    "    def compute(self):\n",
    "        pass\n",
    "    \n",
    "    @abstractmethod\n",
    "    def differentiate(self):\n",
    "        pass\n",
    "\n",
    "    \n",
    "class CostFunction(ABC):\n",
    "    \n",
    "    @abstractmethod\n",
    "    def compute(self):\n",
    "        pass\n",
    "    \n",
    "    @abstractmethod\n",
    "    def differentiate(self):\n",
    "        pass"
   ]
  },
  {
   "cell_type": "code",
   "execution_count": 129,
   "metadata": {},
   "outputs": [],
   "source": [
    "# YOU MUST CHANGE THE CONTENT OF THIS CELL\n",
    "\n",
    "class Sigmoid(ActivationFunction):\n",
    "    \n",
    "    @classmethod\n",
    "    def compute(cls, z: torch.Tensor) -> torch.Tensor:\n",
    "        # complete this\n",
    "        return 1/(1+torch.exp(-z))\n",
    "\n",
    "    @classmethod\n",
    "    def differentiate(cls, z: torch.Tensor) -> torch.Tensor:\n",
    "        # complete this\n",
    "        return Sigmoid.compute(z)*(1-Sigmoid.compute(z))"
   ]
  },
  {
   "cell_type": "markdown",
   "metadata": {},
   "source": [
    "We will use the mean squared error as our cost function: \n",
    "\n"
   ]
  },
  {
   "cell_type": "code",
   "execution_count": 130,
   "metadata": {},
   "outputs": [],
   "source": [
    "# YOU MUST CHANGE THE CONTENT OF THIS CELL\n",
    "\n",
    "class MSE(CostFunction):\n",
    "    \n",
    "    @classmethod\n",
    "    def compute(cls, a: torch.Tensor, y: torch.Tensor) -> torch.Tensor:\n",
    "        # complete this\n",
    "        return torch.norm((a-y)**2)\n",
    "    @classmethod\n",
    "    def differentiate(cls, a: torch.Tensor, y: torch.Tensor) -> torch.Tensor:\n",
    "        return 2*(a-y)"
   ]
  },
  {
   "cell_type": "markdown",
   "metadata": {},
   "source": [
    "We will now implement the Network class. You must complete the feedforward, backprop and GD methods.\n",
    "\n",
    "The formulas are in the pdf."
   ]
  },
  {
   "cell_type": "code",
   "execution_count": 366,
   "metadata": {},
   "outputs": [],
   "source": [
    "# YOU MUST CHANGE THE CONTENT OF THIS CELL\n",
    "\n",
    "class Network(ABC):\n",
    "    \n",
    "    def __init__(self, activation_function:ActivationFunction, cost_function:CostFunction, *layers:int) -> None:\n",
    "        self.weights = [\n",
    "            torch.rand(y, x, dtype=torch.float64) for x, y in zip(layers[:-1], layers[1:])\n",
    "        ]\n",
    "        self.biases = [\n",
    "            torch.rand(y, 1, dtype=torch.float64) for y in layers[1:]\n",
    "        ]\n",
    "        self.activation_function = activation_function\n",
    "        self.cost_function = cost_function\n",
    "        \n",
    "    @classmethod\n",
    "    def get_batches(cls, X:List[torch.Tensor], Y:List[torch.Tensor], batch_size:int) -> Tuple[List[torch.Tensor], List[torch.Tensor]]:\n",
    "        training_data = list(zip(X, Y))\n",
    "        random.shuffle(training_data)\n",
    "        X, Y = zip(*training_data)\n",
    "        batchesX, batchesY = [], []\n",
    "        for i in range(0, len(X), batch_size):\n",
    "            batchesX.append(X[i:i+batch_size])\n",
    "            batchesY.append(Y[i:i+batch_size])\n",
    "        return batchesX, batchesY\n",
    "    \n",
    "    def feedforward(self, a:torch.Tensor) -> Tuple[List[torch.Tensor], List[torch.Tensor]]:\n",
    "        # layers (activation)\n",
    "        aL = [a]\n",
    "        # layers (linear)\n",
    "        zL = [a]\n",
    "        # COMPLETE THIS\n",
    "        for b, w in zip(self.biases,self.weights):\n",
    "            zL.append(torch.tensordot(w, zL[-1],1)+b)\n",
    "            aL.append(Sigmoid.compute(zL[-1]))\n",
    "        return aL, zL\n",
    "    \n",
    "    def backprop(self, x:List[torch.Tensor], y:List[torch.Tensor], aL:List[torch.Tensor], zL:List[torch.Tensor]) -> Tuple[List[torch.Tensor], List[torch.Tensor]]:\n",
    "        # initialize the gradient for this epoch\n",
    "        dw = [torch.zeros(w.shape, dtype=torch.float64) for w in self.weights]\n",
    "        db = [torch.zeros(b.shape, dtype=torch.float64) for b in self.biases]\n",
    "        # COMPLETE THIS\n",
    "        delta=2*(aL[-1]-y)*Sigmoid.differentiate(zL[-1])\n",
    "        db[-1]=delta\n",
    "        dw[-1]=torch.tensordot(delta,torch.t(aL[-2]),1)\n",
    "        for l in range(2,len(layers)):\n",
    "            z=zL[-l]\n",
    "            sp=Sigmoid.differentiate(z)\n",
    "            delta=torch.tensordot(torch.transpose(self.weights[-l+1],0,1),delta,1)*sp\n",
    "            db[-l]=delta\n",
    "            dw[-l]=torch.tensordot(delta,torch.t(aL[-l-1]),1)\n",
    "        \n",
    "        return dw, db\n",
    "    \n",
    "    def GD(self, X:Tuple[torch.Tensor], Y:Tuple[torch.Tensor], alpha:float) -> Tuple[List[torch.Tensor], List[torch.Tensor]]:\n",
    "        # initialize gradients\n",
    "        Edw = [torch.zeros(w.shape, dtype=torch.float64) for w in self.weights]\n",
    "        Edb = [torch.zeros(b.shape, dtype=torch.float64) for b in self.biases]\n",
    "        # descent\n",
    "        for (x, y) in zip(X, Y):\n",
    "            # feed forward\n",
    "            aL, zL = self.feedforward(x)\n",
    "            # backprop\n",
    "            dw, db = self.backprop(x, y, aL, zL)\n",
    "            # gradient update\n",
    "            # COMPLETE THIS\n",
    "        \n",
    "            Edw = [edw+dnw for edw, dnw in zip(Edw, dw)]\n",
    "            Edb = [edb+dnb for edb, dnb in zip(Edb, db)]\n",
    "                \n",
    "            \n",
    "            \n",
    "        return Edw, Edb\n",
    "    \n",
    "    def update_weigths_and_biases(self, Edw:List[torch.Tensor], Edb:List[torch.Tensor]) -> None:\n",
    "        # apply\n",
    "        \n",
    "        self.weights = [w-0.12*dw_l for w, dw_l in zip(self.weights, Edw)]\n",
    "        self.biases  = [b-0.12*db_l for b, db_l in zip(self.biases , Edb)]\n"
   ]
  },
  {
   "cell_type": "markdown",
   "metadata": {},
   "source": [
    "The autoencoder class imply defines a train method and a few helpers for outliers detection.\n",
    "\n",
    "Note the `self.GD(x, x, alpha)` line, where the training data is passed both as input and ouput."
   ]
  },
  {
   "cell_type": "code",
   "execution_count": 367,
   "metadata": {},
   "outputs": [],
   "source": [
    "# you do not need to change the content of this cell\n",
    "\n",
    "class Autoencoder(Network):\n",
    "\n",
    "    def autoencode(self, x) -> int:\n",
    "        aL, zL = self.feedforward(x)\n",
    "        return torch.norm(aL[-1] - x) ** 2\n",
    "    \n",
    "    def train(self, X:List[torch.Tensor], epochs:int=100, alpha:float=0.5, batch_size:int=100, test_data=None,\n",
    "                  printEach:int=1, median:int=2, treshold:int=2) -> None:\n",
    "        history = []\n",
    "        for i in range(epochs):\n",
    "            # stochastic?\n",
    "            bacthX = self.get_batches(X, X, batch_size)[0] if batch_size else [X]\n",
    "            for x in bacthX:\n",
    "                Edw, Edb = self.GD(x, x, alpha)\n",
    "                self.update_weigths_and_biases(Edw, Edb)\n",
    "            # Print\n",
    "            if(i%printEach == 0):\n",
    "                if(test_data):\n",
    "                    prediction = self.predict(X)\n",
    "                    print(\"Epoch \", i, \" of \", epochs, \"  -> Average Distance: \", prediction)\n",
    "                    history.append(prediction)\n",
    "                else:\n",
    "                    print(\"Epoch \", i, \" of \", epochs)\n",
    "        return history\n",
    "\n",
    "    def predict(self, X):\n",
    "        dist = 0\n",
    "        for x in X:\n",
    "            dist += self.autoencode(x)\n",
    "        return float(dist/len(X))\n",
    "    \n",
    "    def discriminate(self, data, treshold):\n",
    "        inlayer = []\n",
    "        outliers = []\n",
    "        for element in data:\n",
    "            if(self.autoencode(element) < treshold):\n",
    "                inlayer.append(element)\n",
    "            else:\n",
    "                outliers.append(element)\n",
    "        print(len(outliers), \"outliers over \", len(data))\n",
    "        return inlayer, outliers"
   ]
  },
  {
   "cell_type": "code",
   "execution_count": 368,
   "metadata": {},
   "outputs": [
    {
     "name": "stdout",
     "output_type": "stream",
     "text": [
      "4\n"
     ]
    }
   ],
   "source": [
    "# you do not need to change the content of this cell\n",
    "\n",
    "dim = 3\n",
    "layers = [dim, dim-1,dim-1, dim]\n",
    "print(len(layers))\n",
    "autoencoder = Autoencoder(Sigmoid, MSE, *layers)"
   ]
  },
  {
   "cell_type": "code",
   "execution_count": 369,
   "metadata": {
    "scrolled": true
   },
   "outputs": [
    {
     "name": "stdout",
     "output_type": "stream",
     "text": [
      "Epoch  0  of  400   -> Average Distance:  0.3283694819695554\n",
      "Epoch  10  of  400   -> Average Distance:  0.07895165603826258\n",
      "Epoch  20  of  400   -> Average Distance:  0.0792048426286913\n",
      "Epoch  30  of  400   -> Average Distance:  0.0762628113647279\n",
      "Epoch  40  of  400   -> Average Distance:  0.06964351085499726\n",
      "Epoch  50  of  400   -> Average Distance:  0.05191859738218088\n",
      "Epoch  60  of  400   -> Average Distance:  0.03927460996202404\n",
      "Epoch  70  of  400   -> Average Distance:  0.033474017676674704\n",
      "Epoch  80  of  400   -> Average Distance:  0.03279100883587996\n",
      "Epoch  90  of  400   -> Average Distance:  0.032708056232573904\n",
      "Epoch  100  of  400   -> Average Distance:  0.03222691353343048\n",
      "Epoch  110  of  400   -> Average Distance:  0.03198153703449594\n",
      "Epoch  120  of  400   -> Average Distance:  0.03181446132648713\n",
      "Epoch  130  of  400   -> Average Distance:  0.0316565466192217\n",
      "Epoch  140  of  400   -> Average Distance:  0.031459606763814964\n",
      "Epoch  150  of  400   -> Average Distance:  0.03103240395909815\n",
      "Epoch  160  of  400   -> Average Distance:  0.030712707373794952\n",
      "Epoch  170  of  400   -> Average Distance:  0.030283185543443912\n",
      "Epoch  180  of  400   -> Average Distance:  0.029490498964644517\n",
      "Epoch  190  of  400   -> Average Distance:  0.028821994658561844\n",
      "Epoch  200  of  400   -> Average Distance:  0.02744515796754578\n",
      "Epoch  210  of  400   -> Average Distance:  0.02638627541174951\n",
      "Epoch  220  of  400   -> Average Distance:  0.02436713627495104\n",
      "Epoch  230  of  400   -> Average Distance:  0.022438444455152737\n",
      "Epoch  240  of  400   -> Average Distance:  0.02100300267199164\n",
      "Epoch  250  of  400   -> Average Distance:  0.020459878831403787\n",
      "Epoch  260  of  400   -> Average Distance:  0.019824249985482264\n",
      "Epoch  270  of  400   -> Average Distance:  0.019488813912002665\n",
      "Epoch  280  of  400   -> Average Distance:  0.019747730581017007\n",
      "Epoch  290  of  400   -> Average Distance:  0.019343490544578935\n",
      "Epoch  300  of  400   -> Average Distance:  0.01936090928911456\n",
      "Epoch  310  of  400   -> Average Distance:  0.019504932426657948\n",
      "Epoch  320  of  400   -> Average Distance:  0.019333799089204226\n",
      "Epoch  330  of  400   -> Average Distance:  0.019369923957644267\n",
      "Epoch  340  of  400   -> Average Distance:  0.019316549476114466\n",
      "Epoch  350  of  400   -> Average Distance:  0.019303032799658875\n",
      "Epoch  360  of  400   -> Average Distance:  0.019372115286182677\n",
      "Epoch  370  of  400   -> Average Distance:  0.019393042394863783\n",
      "Epoch  380  of  400   -> Average Distance:  0.01930064231031018\n",
      "Epoch  390  of  400   -> Average Distance:  0.01927456568072414\n",
      "CPU times: user 1min 19s, sys: 0 ns, total: 1min 19s\n",
      "Wall time: 1min 19s\n"
     ]
    }
   ],
   "source": [
    "%%time\n",
    "# you do not need to change the content of this cell\n",
    "\n",
    "# Train autoencoder\n",
    "history = autoencoder.train(training_data, epochs=400, alpha=0.5, batch_size=128, test_data=training_data, printEach=10)"
   ]
  },
  {
   "cell_type": "code",
   "execution_count": 370,
   "metadata": {},
   "outputs": [
    {
     "data": {
      "image/png": "[encoded data removed]",
      "text/plain": [
       "<Figure size 432x288 with 1 Axes>"
      ]
     },
     "metadata": {
      "needs_background": "light"
     },
     "output_type": "display_data"
    }
   ],
   "source": [
    "# you do not need to change the content of this cell\n",
    "\n",
    "plt.plot(history, linewidth=2, label='Loss on training data')\n",
    "plt.legend(loc='upper right')\n",
    "plt.title('Loss')\n",
    "plt.ylabel('Loss')\n",
    "plt.xlabel('Epoch')\n",
    "plt.show()"
   ]
  },
  {
   "cell_type": "code",
   "execution_count": 334,
   "metadata": {},
   "outputs": [
    {
     "name": "stdout",
     "output_type": "stream",
     "text": [
      "torch.Size([2])\n"
     ]
    }
   ],
   "source": [
    "x=torch.tensor([[1,2,3],[4,5,6]])\n",
    "y=torch.tensor([1,1,1])\n",
    "\n",
    "print(torch.tensordot(x,y,1).shape)"
   ]
  },
  {
   "cell_type": "code",
   "execution_count": null,
   "metadata": {},
   "outputs": [],
   "source": []
  },
  {
   "cell_type": "code",
   "execution_count": null,
   "metadata": {},
   "outputs": [],
   "source": []
  }
 ],
 "metadata": {
  "kernelspec": {
   "display_name": "Python 3",
   "language": "python",
   "name": "python3"
  },
  "language_info": {
   "codemirror_mode": {
    "name": "ipython",
    "version": 3
   },
   "file_extension": ".py",
   "mimetype": "text/x-python",
   "name": "python",
   "nbconvert_exporter": "python",
   "pygments_lexer": "ipython3",
   "version": "3.9.4"
  }
 },
 "nbformat": 4,
 "nbformat_minor": 4
}
