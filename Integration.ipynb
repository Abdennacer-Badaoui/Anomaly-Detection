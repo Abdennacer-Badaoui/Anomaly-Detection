{
 "cells": [
  {
   "cell_type": "code",
   "execution_count": 1,
   "metadata": {},
   "outputs": [],
   "source": [
    "# you do not need to change the content of this cell\n",
    "%load_ext autoreload\n",
    "#%load_ext line_profiler\n",
    "%autoreload 2"
   ]
  },
  {
   "cell_type": "code",
   "execution_count": 2,
   "metadata": {},
   "outputs": [],
   "source": [
    "# you do not need to change the content of this cell\n",
    "from abc import ABC, abstractmethod\n",
    "import json\n",
    "import matplotlib.pyplot as plt\n",
    "import numpy as np\n",
    "from pyspark.sql import SparkSession\n",
    "import pyspark.sql.functions as F\n",
    "from pyspark.sql.types import IntegerType\n",
    "from pyspark.sql.window import Window\n",
    "import random\n",
    "import seaborn as sns\n",
    "from sklearn.metrics import confusion_matrix, precision_recall_curve\n",
    "from sklearn.model_selection import train_test_split\n",
    "from sklearn.preprocessing import StandardScaler\n",
    "import torch\n",
    "from typing import Any, List, Optional, Tuple, Union"
   ]
  },
  {
   "cell_type": "code",
   "execution_count": 3,
   "metadata": {},
   "outputs": [],
   "source": [
    "# you do not need to change the content of this cell\n",
    "plt.rcParams['figure.figsize'] = [10, 5]"
   ]
  },
  {
   "cell_type": "code",
   "execution_count": 4,
   "metadata": {},
   "outputs": [],
   "source": [
    "# you do not need to change the content of this cell\n",
    "spark = SparkSession.builder\\\n",
    "                    .master('local')\\\n",
    "                    .appName('DL')\\\n",
    "                    .getOrCreate()"
   ]
  },
  {
   "cell_type": "markdown",
   "metadata": {},
   "source": [
    "Now that we have our autoencoder, we will prepare the logs. We will do it using spark via pyspark.\n",
    "\n",
    "Please use queries (select, groupBy, filter, etc.) and functions (F.count, F.abs, etc.) to do the excercises. Do not use User-defined functions (UDF) (https://spark.apache.org/docs/latest/api/python/_modules/pyspark/sql/udf.html) which run python code on spark dataframes but are not efficient."
   ]
  },
  {
   "cell_type": "code",
   "execution_count": 5,
   "metadata": {},
   "outputs": [],
   "source": [
    "# you do not need to change the content of this cell\n",
    "df = spark.read.json('./data/devices.json')"
   ]
  },
  {
   "cell_type": "code",
   "execution_count": 6,
   "metadata": {},
   "outputs": [
    {
     "name": "stdout",
     "output_type": "stream",
     "text": [
      "+---------+---------+---------+----+-------------+\n",
      "|client_id|device_id|   log_id|rssi|         time|\n",
      "+---------+---------+---------+----+-------------+\n",
      "|        1| 20339519|891826512|-106|1.584104401E9|\n",
      "|        0| 12740761|891826577| -77|1.584104401E9|\n",
      "|        2| 86533313|891826638| -63|1.584104401E9|\n",
      "|        1| 25634086|891826661| -51|1.584104401E9|\n",
      "|        0| 15891821|891826696| -62|1.584104401E9|\n",
      "|        0| 13711168|891826711| -29|1.584104401E9|\n",
      "|        0| 12272690|891826490|-102|1.584104402E9|\n",
      "|        0| 13115769|891826504|-106|1.584104402E9|\n",
      "|        1| 25103605|891826541| -86|1.584104402E9|\n",
      "|        1| 29758359|891826545| -34|1.584104402E9|\n",
      "|        3| 24731158|891826553| -90|1.584104402E9|\n",
      "|        0| 28275422|891826571| -53|1.584104402E9|\n",
      "|        2| 66935406|891826641| -84|1.584104402E9|\n",
      "|        1| 77356693|891826658| -51|1.584104402E9|\n",
      "|        1| 20762046|891826665| -75|1.584104402E9|\n",
      "|        0| 28717060|891826672| -34|1.584104402E9|\n",
      "|        0| 14304009|891826691| -57|1.584104402E9|\n",
      "|        0| 15297714|891826699| -55|1.584104402E9|\n",
      "|        0| 31357763|891826713|-100|1.584104402E9|\n",
      "|        0| 15293436|891826729| -72|   1.584108E9|\n",
      "+---------+---------+---------+----+-------------+\n",
      "only showing top 20 rows\n",
      "\n"
     ]
    }
   ],
   "source": [
    "# you do not need to change the content of this cell\n",
    "df.show()"
   ]
  },
  {
   "cell_type": "code",
   "execution_count": 7,
   "metadata": {},
   "outputs": [
    {
     "data": {
      "text/plain": [
       "388215"
      ]
     },
     "execution_count": 7,
     "metadata": {},
     "output_type": "execute_result"
    }
   ],
   "source": [
    "# you do not need to change the content of this cell\n",
    "df.count()"
   ]
  },
  {
   "cell_type": "markdown",
   "metadata": {},
   "source": [
    "As you can see, the logs have 5 columns:\n",
    "    - the client_id\n",
    "    - the device_id\n",
    "    - the log_id (unique for each row)\n",
    "    - the Received Signal Strength Indicator\n",
    "    - a timestamp\n",
    "    \n",
    "The logs contain only the columns required to solve our problem: predicting missing connections."
   ]
  },
  {
   "cell_type": "markdown",
   "metadata": {},
   "source": [
    "Intuitively, we understand that the problem is a problem of distance between log entries (the `time` column) for each device.\n",
    "\n",
    "We will thus perform data augmentation to compute the time elapsed, for each device, between the current entry and the preceeding one.\n",
    "\n",
    "To do that, you must use the `Window`function of pyspark to add an `elapsed` column to the dataset. Here is a good resource to help you start with window functions: https://databricks.com/blog/2015/07/15/introducing-window-functions-in-spark-sql.html.\n",
    "\n",
    "You will know that your query is right if you get a majority of values around `3600.0` (machines connect every hour). Note that a few entries could be higher than 3600.0 and that the first entries will be `null`.\n",
    "\n",
    "You must see something like:"
   ]
  },
  {
   "cell_type": "raw",
   "metadata": {},
   "source": [
    "+---------+---------+---------+----+-------------+-------+\n",
    "|client_id|device_id|   log_id|rssi|         time|elapsed|\n",
    "+---------+---------+---------+----+-------------+-------+\n",
    "|        0| 27149139|891556665| -34|   1.578762E9|   null|\n",
    "|        0| 27149139|891556787| -32|  1.5787656E9| 3600.0|\n",
    "|        0| 27149139|891556907| -30|  1.5787692E9| 3600.0|\n",
    "|        0| 27149139|891557029| -30|  1.5787728E9| 3600.0|\n",
    "|        0| 27149139|891557150| -36|  1.5787764E9| 3600.0|\n",
    "|        0| 27149139|891557273| -36|    1.57878E9| 3600.0|\n",
    "|        0| 27149139|891557397| -35|1.578783601E9| 3601.0|\n",
    "etc.etc.\n",
    "+---------+---------+---------+----+-------------+-------+"
   ]
  },
  {
   "cell_type": "code",
   "execution_count": 17,
   "metadata": {
    "scrolled": true
   },
   "outputs": [
    {
     "name": "stdout",
     "output_type": "stream",
     "text": [
      "+---------+---------+---------+----+-------------+-------+\n",
      "|client_id|device_id|   log_id|rssi|         time|elapsed|\n",
      "+---------+---------+---------+----+-------------+-------+\n",
      "|        0| 27149139|891926485| -32|1.585598402E9|   null|\n",
      "|        0| 27149139|891926241| -30|  1.5855948E9| 3602.0|\n",
      "|        0| 27149139|891925998| -35|  1.5855912E9| 3600.0|\n",
      "|        0| 27149139|891925758| -36|  1.5855876E9| 3600.0|\n",
      "|        0| 27149139|891925516| -35|   1.585584E9| 3600.0|\n",
      "|        0| 27149139|891925270| -36|  1.5855804E9| 3600.0|\n",
      "|        0| 27149139|891925031| -30|  1.5855768E9| 3600.0|\n",
      "|        0| 27149139|891924789| -30|  1.5855732E9| 3600.0|\n",
      "|        0| 27149139|891924542| -36|1.585569602E9| 3598.0|\n",
      "|        0| 27149139|891924302| -35|   1.585566E9| 3602.0|\n",
      "|        0| 27149139|891924060| -32|  1.5855624E9| 3600.0|\n",
      "|        0| 27149139|891923813| -30|  1.5855588E9| 3600.0|\n",
      "|        0| 27149139|891923571| -32|  1.5855552E9| 3600.0|\n",
      "|        0| 27149139|891923333| -33|  1.5855516E9| 3600.0|\n",
      "|        0| 27149139|891923087| -35|   1.585548E9| 3600.0|\n",
      "|        0| 27149139|891922847| -33|  1.5855444E9| 3600.0|\n",
      "|        0| 27149139|891922609| -34|  1.5855408E9| 3600.0|\n",
      "|        0| 27149139|891922364| -34|  1.5855372E9| 3600.0|\n",
      "|        0| 27149139|891922124| -33|  1.5855336E9| 3600.0|\n",
      "|        0| 27149139|891921882| -31|    1.58553E9| 3600.0|\n",
      "+---------+---------+---------+----+-------------+-------+\n",
      "only showing top 20 rows\n",
      "\n"
     ]
    }
   ],
   "source": [
    "# YOU MUST CHANGE THE CONTENT OF THIS CELL\n",
    "windowSpec = \\\n",
    "  Window.partitionBy(df['device_id']).orderBy(df['time'].desc())\n",
    "# we get the time elapsed\n",
    "df = df.withColumn('elapsed',-df['time']+F.lag('time',1).over(windowSpec)\n",
    "\n",
    "\n",
    "                  )\n",
    "df.show()"
   ]
  },
  {
   "cell_type": "markdown",
   "metadata": {},
   "source": [
    "We will now try to define in which extent the missing connections are linked to a bad signal. \n",
    "\n",
    "\n",
    "To do that, write a spark query that sums the number of missing connections for each device and add the mean rssi of the device. Create four columns: \n",
    "- `zero_missing` (less than eg. 3800.0 seconds have elapsed since the last connection -  note that we wait for 3800 seconds to leave some room for machines having a temporary connection problem);\n",
    "- `one_missing`(3800 to 7300 seconds have elapsed);\n",
    "- `two_plus_missing` (more than 7300 seconds have elapsed);\n",
    "- `avg_rssi` for the mean rssi.\n",
    "\n",
    "You can do that using the spark built-in functions we imported in `import pyspark.sql.functions as F`.\n",
    "\n",
    "Sort your columns by `two_plus_missing`, `one_missing`, `zero_missing`.\n",
    "\n",
    "You will see something like:"
   ]
  },
  {
   "cell_type": "raw",
   "metadata": {},
   "source": [
    "+---------+------------+-----------+----------------+-------------------+\n",
    "|device_id|zero_missing|one_missing|two_plus_missing|           avg_rssi|\n",
    "+---------+------------+-----------+----------------+-------------------+\n",
    "| 86533313|         934|          0|             105| -64.10288461538461|\n",
    "| 11399616|         953|          0|             104| -76.01890359168242|\n",
    "| 32943260|        1010|          0|             101| -85.98111510791367|\n",
    "| 23744340|        1058|          0|             100|              -55.0|\n",
    "| 24191837|         952|          0|             100|-100.90693257359924|\n",
    "| 93330303|         963|          0|              99| -82.95954844778927|\n",
    "| 27998249|        1014|          0|              95| -56.01531531531531|\n",
    "| 66935406|         995|          0|              94|  -80.9770642201835|\n",
    "| 21168733|        1141|          0|              92| -59.04294975688817|\n",
    "| 29864881|        1035|          0|              91|-45.975155279503106|\n",
    "| 23252650|        1080|          0|              90| -91.98292058070025|\n",
    "| 82624439|        1054|          0|              90|-53.048034934497814|\n",
    "| 63821639|        1091|          0|              89|-104.99661303979678|\n",
    "| 93958462|        1989|          3|               2| -52.03809523809524|\n",
    "| 27149139|        1878|          9|               1| -33.03388035997882|\n",
    "etc. etc.\n",
    "+---------+------------+-----------+----------------+-------------------+\n"
   ]
  },
  {
   "cell_type": "code",
   "execution_count": 29,
   "metadata": {},
   "outputs": [
    {
     "name": "stdout",
     "output_type": "stream",
     "text": [
      "+---------+------------+-----------+----------------+-------------------+\n",
      "|device_id|zero_missing|one_missing|two_plus_missing|          avg(rssi)|\n",
      "+---------+------------+-----------+----------------+-------------------+\n",
      "| 86533313|         934|          0|             105| -64.10288461538461|\n",
      "| 11399616|         953|          0|             104| -76.01890359168242|\n",
      "| 32943260|        1010|          0|             101| -85.98111510791367|\n",
      "| 23744340|        1058|          0|             100|              -55.0|\n",
      "| 24191837|         952|          0|             100|-100.90693257359924|\n",
      "| 93330303|         963|          0|              99| -82.95954844778927|\n",
      "| 27998249|        1014|          0|              95| -56.01531531531531|\n",
      "| 66935406|         995|          0|              94|  -80.9770642201835|\n",
      "| 21168733|        1141|          0|              92| -59.04294975688817|\n",
      "| 29864881|        1035|          0|              91|-45.975155279503106|\n",
      "| 23252650|        1080|          0|              90| -91.98292058070025|\n",
      "| 82624439|        1054|          0|              90|-53.048034934497814|\n",
      "| 63821639|        1091|          0|              89|-104.99661303979678|\n",
      "| 93958462|        1989|          3|               2| -52.03809523809524|\n",
      "| 27149139|        1878|          9|               1| -33.03388035997882|\n",
      "| 15293436|        2138|          8|               1| -74.01815642458101|\n",
      "| 16102684|         697|          1|               1| -68.98285714285714|\n",
      "| 14265022|        1056|        550|               0|-116.64281269446172|\n",
      "| 29809294|        1087|        535|               0|-110.65372766481823|\n",
      "| 17406188|         882|        484|               0|-115.53474762253109|\n",
      "| 79419993|         893|        479|               0|-112.59359067734887|\n",
      "| 32969574|         901|        475|               0|-116.57516339869281|\n",
      "| 15587117|         900|        475|               0|-114.58430232558139|\n",
      "| 12671362|         905|        473|               0| -115.6881798404641|\n",
      "| 17349076|         905|        473|               0|-111.59390862944163|\n",
      "| 13332942|         909|        471|               0|-114.51701665459812|\n",
      "| 23730690|         910|        470|               0|-114.56263577118031|\n",
      "| 32738013|         915|        468|               0|-110.64378612716763|\n",
      "| 45000779|         915|        468|               0| -110.6907514450867|\n",
      "| 75839523|         917|        467|               0|-111.63249097472924|\n",
      "| 16459108|         917|        467|               0|-110.67653429602888|\n",
      "| 22225100|         919|        466|               0|-111.67099567099567|\n",
      "| 21355718|         919|        466|               0|-116.52164502164503|\n",
      "| 11793405|         924|        463|               0|-116.53025936599424|\n",
      "| 80972152|         929|        461|               0|-116.62473040977714|\n",
      "| 33815644|         714|        385|               0|-112.70454545454545|\n",
      "| 33231780|        1093|        379|               0|-117.79293957909029|\n",
      "| 28042808|         727|        378|               0|-114.63652802893309|\n",
      "| 30456231|         731|        376|               0|-113.55776173285199|\n",
      "| 19412939|         736|        374|               0|-111.59135913591359|\n",
      "| 30183031|         736|        374|               0|-112.57875787578757|\n",
      "| 18075238|         736|        374|               0|-114.66696669666966|\n",
      "| 21949518|         744|        370|               0|-110.66726457399103|\n",
      "| 11747503|         806|        339|               0| -117.2129144851658|\n",
      "| 21854006|        1221|        315|               0|-118.47039687703318|\n",
      "| 32127589|        1239|        306|               0|-118.47800776196637|\n",
      "| 41665526|        1259|        296|               0|-118.41709511568124|\n",
      "| 82860763|        1269|        291|               0| -118.3952594490711|\n",
      "| 15345199|        1275|        288|               0|-118.46355498721228|\n",
      "| 12544116|         452|        252|               0|-111.55460992907801|\n",
      "| 69211568|         984|        250|               0|-118.48097165991904|\n",
      "| 16010008|         480|        238|               0|-115.59944367176634|\n",
      "| 32139833|         501|        227|               0| -117.2002743484225|\n",
      "| 55129663|        1108|        188|               0|-119.12181958365458|\n",
      "| 62361300|        2129|         14|               0| -67.97248134328358|\n",
      "| 23600278|        2131|         13|               0|-104.94265734265734|\n",
      "| 12833142|        2133|         12|               0| -104.0121155638397|\n",
      "| 19668401|        2133|         12|               0| -50.98881640260951|\n",
      "| 75411715|        2135|         11|               0|   -61.029809035864|\n",
      "| 20892187|        1979|         11|               0| -91.96233048719236|\n",
      "| 12263957|        2137|         10|               0|-33.971601489757916|\n",
      "| 31951323|        2137|         10|               0| -63.02281191806331|\n",
      "| 45841260|        2137|         10|               0| -56.01163873370577|\n",
      "| 26091258|        2137|         10|               0|-22.553538175046555|\n",
      "| 16553610|        2137|         10|               0| -74.11824953445065|\n",
      "| 11758137|        1879|         10|               0| -28.03227513227513|\n",
      "| 25051885|        1879|         10|               0| -72.02486772486772|\n",
      "| 19045475|        2139|          9|               0|-23.465798045602607|\n",
      "| 93856506|        2139|          9|               0|-57.009771986970684|\n",
      "| 19589811|        2139|          9|               0|-54.996277338296885|\n",
      "| 26146378|        2139|          9|               0| -96.91577477896696|\n",
      "| 29758359|        2139|          9|               0|-32.030246626337835|\n",
      "| 20339519|        2139|          9|               0|-108.98092135877152|\n",
      "| 16716306|        2139|          9|               0| -82.06747324336901|\n",
      "| 13115769|        2139|          9|               0|-104.97859469520708|\n",
      "| 91499746|        2139|          9|               0| -44.94881340158213|\n",
      "| 21036214|        2139|          9|               0| -56.96323871568171|\n",
      "| 26773684|        1983|          9|               0|  -98.9101856497742|\n",
      "| 10110554|        1983|          9|               0|  -80.0627195183141|\n",
      "| 58956001|        1881|          9|               0| -88.03014278159704|\n",
      "| 42289246|        1881|          9|               0| -88.00793231094659|\n",
      "| 11248206|        1881|          9|               0| -82.94658910629296|\n",
      "| 26058478|        1833|          9|               0| -81.00108518719479|\n",
      "| 62548472|        2141|          8|               0| -103.9646511627907|\n",
      "| 15132932|        2141|          8|               0|-30.926046511627906|\n",
      "| 74912465|        2141|          8|               0|-48.007441860465114|\n",
      "| 90340077|        2141|          8|               0|-103.06883720930233|\n",
      "| 25156699|        2141|          8|               0|  -70.0060465116279|\n",
      "| 37640301|        2141|          8|               0| -71.94093023255815|\n",
      "| 20212809|        2141|          8|               0| -96.04697674418604|\n",
      "| 10885874|        1985|          8|               0|-50.962888665997994|\n",
      "| 65000456|        1985|          8|               0| -47.91474423269809|\n",
      "| 10357939|        1985|          8|               0| -62.05767301905717|\n",
      "| 18875852|        1883|          8|               0| -43.01162790697674|\n",
      "| 33657061|        1883|          8|               0| -97.98044397463002|\n",
      "| 17274630|        1883|          8|               0|  -92.0306553911205|\n",
      "| 94460909|        1883|          8|               0|   -76.973044397463|\n",
      "| 22965068|        1883|          8|               0|-29.061310782241016|\n",
      "| 45960596|        2143|          7|               0| -45.99395629939563|\n",
      "| 62756823|        2143|          7|               0| -80.94607159460716|\n",
      "+---------+------------+-----------+----------------+-------------------+\n",
      "only showing top 100 rows\n",
      "\n"
     ]
    }
   ],
   "source": [
    "# YOU MUST CHANGE THE CONTENT OF THIS CELL\n",
    "\n",
    "df_missing = df.groupBy('device_id').agg(\n",
    "    F.count(F.when(df['elapsed']< 3800,True)).alias('zero_missing'),\n",
    "    F.count(F.when((df['elapsed']> 3800) & (df['elapsed']< 7300), True)).alias('one_missing'),\n",
    "    F.count(F.when(df['elapsed']> 7300, True)).alias('two_plus_missing'),\n",
    "    F.avg(df['rssi'])\n",
    "\n",
    "\n",
    "\n",
    "\n",
    "                )\\\n",
    "                .sort(\n",
    "                    F.col('two_plus_missing').desc(),\n",
    "                    F.col('one_missing').desc(),\n",
    "                    F.col('zero_missing').desc()\n",
    "                )\n",
    "\n",
    "df_missing.show(100)"
   ]
  },
  {
   "cell_type": "markdown",
   "metadata": {},
   "source": [
    "We will now put a 0 or 1 label on our data. This label will not be used to train our autoencoder but will help us do a summary distinction between devices facing a big service disruption and the \"normal\" ones.\n",
    "\n",
    "Add a `label` column to the dataframe and fill it with `1` if \n",
    "- the device has more than two missing connections (df wide) AND\n",
    "- the time elapsed between the current row entry and the preceeding one is more than 3700 seconds.\n",
    "\n",
    "Otherwise, fill the label column with a `0`.\n",
    "\n",
    "You can join dataframes by calling the `join` function on them.\n",
    "\n",
    "You should see something like"
   ]
  },
  {
   "cell_type": "raw",
   "metadata": {},
   "source": [
    "+---------+---------+---------+----+-------------+-------+------------+-----------+----------------+------------------+-----+\n",
    "|device_id|client_id|   log_id|rssi|         time|elapsed|zero_missing|one_missing|two_plus_missing|          avg_rssi|label|\n",
    "+---------+---------+---------+----+-------------+-------+------------+-----------+----------------+------------------+-----+\n",
    "| 27149139|        0|891562524| -35|  1.5789348E9| 7200.0|        1878|          9|               1|-33.03388035997882|    1|\n",
    "| 27149139|        0|891572529| -35|  1.5791688E9| 7200.0|        1878|          9|               1|-33.03388035997882|    1|\n",
    "| 27149139|        0|891595454| -36|  1.5797016E9|10800.0|        1878|          9|               1|-33.03388035997882|    1|\n",
    "etc. etc.\n",
    "+---------+---------+---------+----+-------------+-------+------------+-----------+----------------+------------------+-----+"
   ]
  },
  {
   "cell_type": "code",
   "execution_count": 35,
   "metadata": {},
   "outputs": [
    {
     "name": "stdout",
     "output_type": "stream",
     "text": [
      "+---------+---------+---------+----+-------------+-------+------------+-----------+----------------+------------------+-----+\n",
      "|device_id|client_id|   log_id|rssi|         time|elapsed|zero_missing|one_missing|two_plus_missing|         avg(rssi)|label|\n",
      "+---------+---------+---------+----+-------------+-------+------------+-----------+----------------+------------------+-----+\n",
      "| 27496805|        3|891926479| -70|  1.5855984E9|   null|        1987|          7|               0|-67.04812030075188|    0|\n",
      "| 27496805|        3|891926235| -70|1.585594801E9| 3599.0|        1987|          7|               0|-67.04812030075188|    0|\n",
      "| 27496805|        3|891925992| -66|  1.5855912E9| 3601.0|        1987|          7|               0|-67.04812030075188|    0|\n",
      "| 27496805|        3|891925752| -65|  1.5855876E9| 3600.0|        1987|          7|               0|-67.04812030075188|    0|\n",
      "| 27496805|        3|891925510| -68|   1.585584E9| 3600.0|        1987|          7|               0|-67.04812030075188|    0|\n",
      "| 27496805|        3|891925264| -66|  1.5855804E9| 3600.0|        1987|          7|               0|-67.04812030075188|    0|\n",
      "| 27496805|        3|891925025| -70|  1.5855768E9| 3600.0|        1987|          7|               0|-67.04812030075188|    0|\n",
      "| 27496805|        3|891924783| -66|  1.5855732E9| 3600.0|        1987|          7|               0|-67.04812030075188|    0|\n",
      "| 27496805|        3|891924536| -65|  1.5855696E9| 3600.0|        1987|          7|               0|-67.04812030075188|    0|\n",
      "| 27496805|        3|891924296| -65|   1.585566E9| 3600.0|        1987|          7|               0|-67.04812030075188|    0|\n",
      "| 27496805|        3|891924054| -69|  1.5855624E9| 3600.0|        1987|          7|               0|-67.04812030075188|    0|\n",
      "| 27496805|        3|891923807| -64|  1.5855588E9| 3600.0|        1987|          7|               0|-67.04812030075188|    0|\n",
      "| 27496805|        3|891923565| -69|  1.5855552E9| 3600.0|        1987|          7|               0|-67.04812030075188|    0|\n",
      "| 27496805|        3|891923327| -67|  1.5855516E9| 3600.0|        1987|          7|               0|-67.04812030075188|    0|\n",
      "| 27496805|        3|891923081| -65|   1.585548E9| 3600.0|        1987|          7|               0|-67.04812030075188|    0|\n",
      "| 27496805|        3|891922841| -66|  1.5855444E9| 3600.0|        1987|          7|               0|-67.04812030075188|    0|\n",
      "| 27496805|        3|891922603| -69|  1.5855408E9| 3600.0|        1987|          7|               0|-67.04812030075188|    0|\n",
      "| 27496805|        3|891922358| -65|  1.5855372E9| 3600.0|        1987|          7|               0|-67.04812030075188|    0|\n",
      "| 27496805|        3|891922118| -67|  1.5855336E9| 3600.0|        1987|          7|               0|-67.04812030075188|    0|\n",
      "| 27496805|        3|891921876| -64|    1.58553E9| 3600.0|        1987|          7|               0|-67.04812030075188|    0|\n",
      "+---------+---------+---------+----+-------------+-------+------------+-----------+----------------+------------------+-----+\n",
      "only showing top 20 rows\n",
      "\n"
     ]
    }
   ],
   "source": [
    "# YOU MUST CHANGE THE CONTENT OF THIS CELL\n",
    "\n",
    "# labelize the data\n",
    "# ouliers are devices displaying a big nb of missed log entries\n",
    "\n",
    "# where > 3700 and 2+ missing\n",
    "df_labelized = df\\\n",
    "                .join(df_missing, ['device_id'])\\\n",
    "                .withColumn('label', F.expr(\"CASE WHEN elapsed > 3700 THEN '1' WHEN two_plus_missing>0 THEN '1' ELSE '0' END\"))\n",
    "                                 \n",
    "                            \n",
    "                            \n",
    "\n",
    "# show inliners\n",
    "df_labelized.filter(F.col('label') == 0).show()"
   ]
  },
  {
   "cell_type": "markdown",
   "metadata": {},
   "source": [
    "We will now group our logs by devices and into sequences of rssi, time and elapsed. \n",
    "\n",
    "For example, having:\n",
    "    - log 1 of device 1\n",
    "    - log 2 of device 1\n",
    "    - log 3 of device 1\n",
    "    - log 1 of device 2\n",
    "    - log 2 of device 2\n",
    "    - log 4 of device 1\n",
    "    - log 1 of device 3\n",
    "    - log 3 of device 2\n",
    "    - log 2 of device 3\n",
    "\n",
    "and sequences of length 3, we want the query to return \n",
    "    - 1, 2, 3 of device 1\n",
    "    - 2, 3, 4 of device 1\n",
    "    - 1, 2, 3 of device 2\n",
    "    - nothing for device 3, who has only 2 entries\n",
    "\n",
    "The order of the sequences in each log is important but the order of the logs not so much.\n",
    "\n",
    "You will see something like:"
   ]
  },
  {
   "cell_type": "raw",
   "metadata": {},
   "source": [
    "+---------+---------+-----+---------+---------+---------+---------+---------+-------------+-------------+-------------+-----------+-------------+------+------+------+------+------+\n",
    "|device_id|   log_id|label|elapsed_0|elapsed_1|elapsed_2|elapsed_3|elapsed_4|       time_0|       time_1|       time_2|     time_3|       time_4|rssi_0|rssi_1|rssi_2|rssi_3|rssi_4|\n",
    "+---------+---------+-----+---------+---------+---------+---------+---------+-------------+-------------+-------------+-----------+-------------+------+------+------+------+------+\n",
    "| 27149139|891562524|    1|   3600.0|   3601.0|   3599.0|   3600.0|   7200.0|  1.5789168E9|1.578920401E9|   1.578924E9|1.5789276E9|  1.5789348E9|   -36|   -33|   -30|   -32|   -35|\n",
    "| 27149139|891572529|    1|   3600.0|   3600.0|   3600.0|   3600.0|   7200.0|  1.5791508E9|  1.5791544E9|   1.579158E9|1.5791616E9|  1.5791688E9|   -35|   -32|   -34|   -32|   -35|\n",
    "| 27149139|891595454|    1|   3600.0|   3600.0|   3600.0|   3600.0|  10800.0|    1.57968E9|  1.5796836E9|  1.5796872E9|1.5796908E9|  1.5797016E9|   -34|   -34|   -31|   -34|   -36|\n",
    "| 27149139|891648491|    1|   3601.0|   3599.0|   3600.0|   3600.0|   7200.0|1.580886001E9|  1.5808896E9|  1.5808932E9|1.5808968E9|   1.580904E9|   -31|   -35|   -34|   -36|   -33|\n",
    "etc. etc."
   ]
  },
  {
   "cell_type": "markdown",
   "metadata": {},
   "source": [
    "This exercise is difficult and you will need a few queries to perform it. You will have to use `Window` functions. `F.collect_list` can also help you. You can access the items in spark lists using `F.col('name_of_col_containing_a_lis').getItem(i)`."
   ]
  },
  {
   "cell_type": "code",
   "execution_count": 86,
   "metadata": {},
   "outputs": [
    {
     "name": "stdout",
     "output_type": "stream",
     "text": [
      "+---------+---------+-----+-------------+-------+----+-----------+---------+------+-------------+---------+------+-------------+---------+------+-------------+---------+------+-----------+---------+------+----------+---------+------+\n",
      "|device_id|   log_id|label|         time|elapsed|rssi|     time_0|elapsed_0|rssi_0|       time_1|elapsed_1|rssi_1|       time_1|elapsed_1|rssi_1|       time_2|elapsed_2|rssi_2|     time_3|elapsed_3|rssi_3|    time_4|elapsed_4|rssi_4|\n",
      "+---------+---------+-----+-------------+-------+----+-----------+---------+------+-------------+---------+------+-------------+---------+------+-------------+---------+------+-----------+---------+------+----------+---------+------+\n",
      "| 10110554|891552090|    0|   1.578564E9| 3600.0| -81|1.5855984E9|   3598.0|   -80|1.585594802E9|   3600.0|   -77|1.585594802E9|   3600.0|   -77|1.585591202E9|   3602.0|   -77|1.5855876E9|   3600.0|   -81|1.585584E9|   3599.0|   -77|\n",
      "| 10110554|891611743|    0|1.580079602E9| 3598.0| -83|1.5855984E9|   3598.0|   -80|1.585594802E9|   3600.0|   -77|1.585594802E9|   3600.0|   -77|1.585591202E9|   3602.0|   -77|1.5855876E9|   3600.0|   -81|1.585584E9|   3599.0|   -77|\n",
      "| 10110554|891655497|    0|  1.5810588E9| 3600.0| -78|1.5855984E9|   3598.0|   -80|1.585594802E9|   3600.0|   -77|1.585594802E9|   3600.0|   -77|1.585591202E9|   3602.0|   -77|1.5855876E9|   3600.0|   -81|1.585584E9|   3599.0|   -77|\n",
      "| 10110554|891658094|    0|  1.5811164E9| 3600.0| -81|1.5855984E9|   3598.0|   -80|1.585594802E9|   3600.0|   -77|1.585594802E9|   3600.0|   -77|1.585591202E9|   3602.0|   -77|1.5855876E9|   3600.0|   -81|1.585584E9|   3599.0|   -77|\n",
      "| 10110554|891663119|    0|   1.581228E9| 3600.0| -82|1.5855984E9|   3598.0|   -80|1.585594802E9|   3600.0|   -77|1.585594802E9|   3600.0|   -77|1.585591202E9|   3602.0|   -77|1.5855876E9|   3600.0|   -81|1.585584E9|   3599.0|   -77|\n",
      "| 10110554|891769215|    0|   1.583244E9| 3600.0| -81|1.5855984E9|   3598.0|   -80|1.585594802E9|   3600.0|   -77|1.585594802E9|   3600.0|   -77|1.585591202E9|   3602.0|   -77|1.5855876E9|   3600.0|   -81|1.585584E9|   3599.0|   -77|\n",
      "| 10110554|891819356|    0|  1.5839964E9| 3600.0| -79|1.5855984E9|   3598.0|   -80|1.585594802E9|   3600.0|   -77|1.585594802E9|   3600.0|   -77|1.585591202E9|   3602.0|   -77|1.5855876E9|   3600.0|   -81|1.585584E9|   3599.0|   -77|\n",
      "| 10110554|891849922|    0|  1.5844536E9| 3600.0| -79|1.5855984E9|   3598.0|   -80|1.585594802E9|   3600.0|   -77|1.585594802E9|   3600.0|   -77|1.585591202E9|   3602.0|   -77|1.5855876E9|   3600.0|   -81|1.585584E9|   3599.0|   -77|\n",
      "| 10110554|891865313|    0|   1.584684E9| 3601.0| -79|1.5855984E9|   3598.0|   -80|1.585594802E9|   3600.0|   -77|1.585594802E9|   3600.0|   -77|1.585591202E9|   3602.0|   -77|1.5855876E9|   3600.0|   -81|1.585584E9|   3599.0|   -77|\n",
      "| 10110554|891882621|    0|  1.5849432E9| 3600.0| -77|1.5855984E9|   3598.0|   -80|1.585594802E9|   3600.0|   -77|1.585594802E9|   3600.0|   -77|1.585591202E9|   3602.0|   -77|1.5855876E9|   3600.0|   -81|1.585584E9|   3599.0|   -77|\n",
      "| 10357939|891555385|    0|   1.578708E9| 3600.0| -64|1.5855984E9|   3600.0|   -64|  1.5855948E9|   3600.0|   -65|  1.5855948E9|   3600.0|   -65|  1.5855912E9|   3600.0|   -59|1.5855876E9|   3600.0|   -60|1.585584E9|   3600.0|   -65|\n",
      "| 10357939|891573595|    0|   1.579194E9| 3600.0| -61|1.5855984E9|   3600.0|   -64|  1.5855948E9|   3600.0|   -65|  1.5855948E9|   3600.0|   -65|  1.5855912E9|   3600.0|   -59|1.5855876E9|   3600.0|   -60|1.585584E9|   3600.0|   -65|\n",
      "| 10357939|891588002|    0|  1.5795288E9| 3600.0| -61|1.5855984E9|   3600.0|   -64|  1.5855948E9|   3600.0|   -65|  1.5855948E9|   3600.0|   -65|  1.5855912E9|   3600.0|   -59|1.5855876E9|   3600.0|   -60|1.585584E9|   3600.0|   -65|\n",
      "| 10357939|891592034|    0|  1.5796224E9| 3602.0| -59|1.5855984E9|   3600.0|   -64|  1.5855948E9|   3600.0|   -65|  1.5855948E9|   3600.0|   -65|  1.5855912E9|   3600.0|   -59|1.5855876E9|   3600.0|   -60|1.585584E9|   3600.0|   -65|\n",
      "| 10357939|891594505|    0|    1.57968E9| 3600.0| -59|1.5855984E9|   3600.0|   -64|  1.5855948E9|   3600.0|   -65|  1.5855948E9|   3600.0|   -65|  1.5855912E9|   3600.0|   -59|1.5855876E9|   3600.0|   -60|1.585584E9|   3600.0|   -65|\n",
      "| 10357939|891630149|    0|  1.5804972E9| 3600.0| -62|1.5855984E9|   3600.0|   -64|  1.5855948E9|   3600.0|   -65|  1.5855948E9|   3600.0|   -65|  1.5855912E9|   3600.0|   -59|1.5855876E9|   3600.0|   -60|1.585584E9|   3600.0|   -65|\n",
      "| 10357939|891692684|    0|  1.5818832E9| 3600.0| -64|1.5855984E9|   3600.0|   -64|  1.5855948E9|   3600.0|   -65|  1.5855948E9|   3600.0|   -65|  1.5855912E9|   3600.0|   -59|1.5855876E9|   3600.0|   -60|1.585584E9|   3600.0|   -65|\n",
      "| 10357939|891694956|    0|  1.5819336E9| 3600.0| -61|1.5855984E9|   3600.0|   -64|  1.5855948E9|   3600.0|   -65|  1.5855948E9|   3600.0|   -65|  1.5855912E9|   3600.0|   -59|1.5855876E9|   3600.0|   -60|1.585584E9|   3600.0|   -65|\n",
      "| 10357939|891730809|    0|1.582624802E9| 3598.0| -61|1.5855984E9|   3600.0|   -64|  1.5855948E9|   3600.0|   -65|  1.5855948E9|   3600.0|   -65|  1.5855912E9|   3600.0|   -59|1.5855876E9|   3600.0|   -60|1.585584E9|   3600.0|   -65|\n",
      "| 10357939|891734047|    0|  1.5826788E9| 3600.0| -59|1.5855984E9|   3600.0|   -64|  1.5855948E9|   3600.0|   -65|  1.5855948E9|   3600.0|   -65|  1.5855912E9|   3600.0|   -59|1.5855876E9|   3600.0|   -60|1.585584E9|   3600.0|   -65|\n",
      "+---------+---------+-----+-------------+-------+----+-----------+---------+------+-------------+---------+------+-------------+---------+------+-------------+---------+------+-----------+---------+------+----------+---------+------+\n",
      "only showing top 20 rows\n",
      "\n"
     ]
    }
   ],
   "source": [
    "# YOU MUST CHANGE THE CONTENT OF THIS CELL\n",
    "\n",
    "\n",
    "PREVIOUS_ROWS = 5\n",
    "windowSpec = \\\n",
    "  Window.partitionBy(df_labelized['device_id'])\n",
    "df_sequence= df_labelized.groupBy('device_id','log_id','label','time','elapsed','rssi').agg(F.collect_list('time').over(windowSpec)[0].alias(\"time_0\"), (F.collect_list('elapsed').over(windowSpec)[0]).alias(\"elapsed_0\"), F.collect_list('rssi').over(windowSpec)[0].alias(\"rssi_0\"))\n",
    "df_sequence= df_sequence.join(df_labelized.groupBy('device_id','log_id','label','time','elapsed','rssi').agg(F.collect_list('time').over(windowSpec)[1].alias(\"time_1\"), (F.collect_list('elapsed').over(windowSpec)[1]).alias(\"elapsed_1\"), F.collect_list('rssi').over(windowSpec)[1].alias(\"rssi_1\")), ['device_id','log_id','label','time','elapsed','rssi'])\n",
    "\n",
    "\n",
    "for k in range(1,PREVIOUS_ROWS):\n",
    "    df_sequence= df_sequence.join(df_labelized.groupBy('device_id','log_id','label','time','elapsed','rssi').agg(F.collect_list('time').over(windowSpec)[k].alias(\"time_{}\".format(k)), (F.collect_list('elapsed').over(windowSpec)[k]).alias(\"elapsed_{}\".format(k)), F.collect_list('rssi').over(windowSpec)[k].alias(\"rssi_{}\".format(k))), ['device_id','log_id','label','time','elapsed','rssi'])\n",
    "\n",
    "\n",
    "\n",
    "\n",
    "\n",
    "\n",
    "\n",
    "\n",
    "\n",
    "\n",
    "\n",
    "\n",
    "\n",
    "\n",
    "\n",
    "\n",
    "\n",
    "\n",
    "\n",
    "        \n",
    "df_sequence.show()"
   ]
  },
  {
   "cell_type": "markdown",
   "metadata": {},
   "source": [
    "We will now collect the dataframe into a numpy array (it cannot be passed directly to our autoencoder)."
   ]
  },
  {
   "cell_type": "code",
   "execution_count": 87,
   "metadata": {},
   "outputs": [],
   "source": [
    "# you do not need to change the content of this cell\n",
    "array_sequences =  np.array(df_sequence.drop('device_id').drop('log_id').collect(), dtype=np.float64)"
   ]
  },
  {
   "cell_type": "code",
   "execution_count": 88,
   "metadata": {},
   "outputs": [
    {
     "data": {
      "text/plain": [
       "array([ 0.0000000e+00,  1.5785640e+09,  3.6000000e+03, -8.1000000e+01,\n",
       "        1.5855984e+09,  3.5980000e+03, -8.0000000e+01,  1.5855948e+09,\n",
       "        3.6000000e+03, -7.7000000e+01,  1.5855948e+09,  3.6000000e+03,\n",
       "       -7.7000000e+01,  1.5855912e+09,  3.6020000e+03, -7.7000000e+01,\n",
       "        1.5855876e+09,  3.6000000e+03, -8.1000000e+01,  1.5855840e+09,\n",
       "        3.5990000e+03, -7.7000000e+01])"
      ]
     },
     "execution_count": 88,
     "metadata": {},
     "output_type": "execute_result"
    }
   ],
   "source": [
    "# you do not need to change the content of this cell\n",
    "array_sequences[0]"
   ]
  },
  {
   "cell_type": "code",
   "execution_count": 89,
   "metadata": {},
   "outputs": [
    {
     "data": {
      "text/plain": [
       "(387960, 22)"
      ]
     },
     "execution_count": 89,
     "metadata": {},
     "output_type": "execute_result"
    }
   ],
   "source": [
    "# you do not need to change the content of this cell\n",
    "array_sequences.shape"
   ]
  },
  {
   "cell_type": "code",
   "execution_count": 90,
   "metadata": {},
   "outputs": [
    {
     "name": "stdout",
     "output_type": "stream",
     "text": [
      "(array([], dtype=int64), array([], dtype=int64))\n",
      "(array([], dtype=int64), array([], dtype=int64))\n"
     ]
    }
   ],
   "source": [
    "# you do not need to change the content of this cell\n",
    "infs = np.where(np.isinf(array_sequences))\n",
    "print(infs)\n",
    "nans = np.where(np.isnan(array_sequences))\n",
    "print(nans)"
   ]
  },
  {
   "cell_type": "markdown",
   "metadata": {},
   "source": [
    "We separate our data into a train, validation and test set."
   ]
  },
  {
   "cell_type": "code",
   "execution_count": 99,
   "metadata": {},
   "outputs": [],
   "source": [
    "# you do not need to change the content of this cell\n",
    "data_train, data_test = train_test_split(array_sequences, test_size=0.2, random_state=42)\n",
    "data_train, data_valid = train_test_split(array_sequences, test_size=0.2, random_state=42)"
   ]
  },
  {
   "cell_type": "code",
   "execution_count": 100,
   "metadata": {},
   "outputs": [],
   "source": [
    "# you do not need to change the content of this cell\n",
    "data_train = np.array(data_train)\n",
    "data_test = np.array(data_test)\n",
    "data_valid = np.array(data_valid)"
   ]
  },
  {
   "cell_type": "code",
   "execution_count": 101,
   "metadata": {},
   "outputs": [
    {
     "data": {
      "text/plain": [
       "dtype('float64')"
      ]
     },
     "execution_count": 101,
     "metadata": {},
     "output_type": "execute_result"
    }
   ],
   "source": [
    "# you do not need to change the content of this cell\n",
    "data_valid.dtype"
   ]
  },
  {
   "cell_type": "code",
   "execution_count": 102,
   "metadata": {},
   "outputs": [
    {
     "name": "stdout",
     "output_type": "stream",
     "text": [
      "(280831, 21) (29537, 21) (310368, 21)\n",
      "(70211, 21) (7381, 21) (77592, 21)\n",
      "(70211, 21) (7381, 21) (77592, 21)\n"
     ]
    }
   ],
   "source": [
    "# you do not need to change the content of this cell\n",
    "def get(data, label_col_index=0):\n",
    "    inliners = data[np.where(data[:,label_col_index] == 0)]\n",
    "    outliers = data[np.where(data[:,label_col_index] > 0)]\n",
    "    both = data\n",
    "    # delete the label\n",
    "    inliners = np.delete(inliners, label_col_index, 1)  \n",
    "    outliers = np.delete(outliers, label_col_index, 1)\n",
    "    both     = np.delete(both, label_col_index, 1)\n",
    "    return inliners, outliers, both\n",
    "\n",
    "data_train_inliner, data_train_outlier, data_train_clean = get(data_train)\n",
    "print(data_train_inliner.shape, data_train_outlier.shape, data_train_clean.shape)\n",
    "\n",
    "data_test_inliner, data_test_outlier, data_test_clean = get(data_test)\n",
    "print(data_test_inliner.shape, data_test_outlier.shape, data_test_clean.shape)\n",
    "\n",
    "data_valid_inliner, data_valid_outlier, data_valid_clean = get(data_valid)\n",
    "print(data_valid_inliner.shape, data_valid_outlier.shape, data_valid_clean.shape)"
   ]
  },
  {
   "cell_type": "markdown",
   "metadata": {},
   "source": [
    "We must now standardize our data. Use sklearn.preprocessing.StandardScaler (https://scikit-learn.org/stable/modules/generated/sklearn.preprocessing.StandardScaler.html)"
   ]
  },
  {
   "cell_type": "code",
   "execution_count": 105,
   "metadata": {},
   "outputs": [],
   "source": [
    "# YOU MUST CHANGE THE CONTENT OF THIS CELL\n",
    "\n",
    "scaler = StandardScaler().fit(data_train_inliner)\n",
    "\n",
    "data_train_inliner_rescaled=scaler.transform(data_train_inliner)\n",
    "\n",
    "\n",
    "scaler = StandardScaler().fit(data_train_outlier)\n",
    "\n",
    "data_train_outlier_rescaled=scaler.transform(data_train_outlier)\n",
    "\n",
    "scaler = StandardScaler().fit(data_train_clean)\n",
    "\n",
    "data_train_clean_rescaled=scaler.transform(data_train_clean)\n",
    "\n",
    "scaler = StandardScaler().fit(data_test_inliner)\n",
    "\n",
    "data_test_inliner_rescaled=scaler.transform(data_test_inliner)\n",
    "\n",
    "\n",
    "scaler = StandardScaler().fit(data_test_outlier)\n",
    "\n",
    "data_test_outlier_rescaled=scaler.transform(data_test_outlier)\n",
    "\n",
    "scaler = StandardScaler().fit(data_test_clean)\n",
    "\n",
    "data_test_clean_rescaled=scaler.transform(data_test_clean)\n",
    "\n",
    "\n",
    "scaler = StandardScaler().fit(data_valid_inliner)\n",
    "\n",
    "data_valid_inliner_rescaled=scaler.transform(data_valid_inliner)\n",
    "\n",
    "\n",
    "scaler = StandardScaler().fit(data_valid_outlier)\n",
    "\n",
    "data_valid_outlier_rescaled=scaler.transform(data_valid_outlier)\n",
    "\n",
    "scaler = StandardScaler().fit(data_valid_clean)\n",
    "\n",
    "data_valid_clean_rescaled=scaler.transform(data_valid_clean)\n",
    "\n",
    "\n",
    "\n"
   ]
  },
  {
   "cell_type": "markdown",
   "metadata": {},
   "source": [
    "We can now train our autoencoder. We will use Tensorflow and Keras.\n",
    "\n",
    "Note that we cannot use the autoencoder we wrote yesterday because it lacks optimization and will be too slow."
   ]
  },
  {
   "cell_type": "code",
   "execution_count": 106,
   "metadata": {},
   "outputs": [],
   "source": [
    "# you do not need to change the content of this cell\n",
    "\n",
    "from tensorflow.python.keras.models import Model, load_model\n",
    "from tensorflow.python.keras.layers import Input, Dense, Dropout\n",
    "from tensorflow.python.keras.callbacks import ModelCheckpoint, TensorBoard\n",
    "from tensorflow.python.keras import regularizers"
   ]
  },
  {
   "cell_type": "code",
   "execution_count": 107,
   "metadata": {},
   "outputs": [
    {
     "name": "stdout",
     "output_type": "stream",
     "text": [
      "Model: \"model\"\n",
      "_________________________________________________________________\n",
      "Layer (type)                 Output Shape              Param #   \n",
      "=================================================================\n",
      "input_1 (InputLayer)         [(None, 21)]              0         \n",
      "_________________________________________________________________\n",
      "dense (Dense)                (None, 7)                 154       \n",
      "_________________________________________________________________\n",
      "dense_1 (Dense)              (None, 3)                 24        \n",
      "_________________________________________________________________\n",
      "dense_2 (Dense)              (None, 3)                 12        \n",
      "_________________________________________________________________\n",
      "dense_3 (Dense)              (None, 7)                 28        \n",
      "_________________________________________________________________\n",
      "dense_4 (Dense)              (None, 21)                168       \n",
      "=================================================================\n",
      "Total params: 386\n",
      "Trainable params: 386\n",
      "Non-trainable params: 0\n",
      "_________________________________________________________________\n"
     ]
    }
   ],
   "source": [
    "# the values entered in this cell should work but feel free to modify them.\n",
    "\n",
    "nb_epoch = 25\n",
    "batch_size = 128\n",
    "input_dim = data_train_inliner_rescaled.shape[1]\n",
    "encoding_dim = 7\n",
    "hidden_dim = int(encoding_dim / 2)\n",
    "learning_rate = 1e-3\n",
    "\n",
    "input_layer = Input(shape=(input_dim, ))\n",
    "encoder = Dense(encoding_dim, activation=\"relu\", activity_regularizer=regularizers.l1(learning_rate))(input_layer)\n",
    "encoder = Dense(hidden_dim, activation=\"relu\")(encoder)\n",
    "decoder = Dense(hidden_dim, activation=\"relu\")(encoder)\n",
    "decoder = Dense(encoding_dim, activation=\"relu\")(decoder)\n",
    "decoder = Dense(input_dim, activation=\"linear\")(decoder)\n",
    "autoencoder = Model(inputs=input_layer, outputs=decoder)\n",
    "autoencoder.summary()"
   ]
  },
  {
   "cell_type": "code",
   "execution_count": 108,
   "metadata": {},
   "outputs": [
    {
     "name": "stdout",
     "output_type": "stream",
     "text": [
      "Epoch 1/25\n",
      "2194/2194 [==============================] - 12s 5ms/step - loss: 0.3926 - accuracy: 0.2049 - val_loss: 0.2467 - val_accuracy: 0.2473\n",
      "Epoch 2/25\n",
      "2194/2194 [==============================] - 13s 6ms/step - loss: 0.2256 - accuracy: 0.2857 - val_loss: 0.2199 - val_accuracy: 0.2947\n",
      "Epoch 3/25\n",
      "2194/2194 [==============================] - 10s 4ms/step - loss: 0.2166 - accuracy: 0.2929 - val_loss: 0.2173 - val_accuracy: 0.2679\n",
      "Epoch 4/25\n",
      "2194/2194 [==============================] - 10s 5ms/step - loss: 0.2146 - accuracy: 0.2888 - val_loss: 0.2155 - val_accuracy: 0.2787\n",
      "Epoch 5/25\n",
      "2194/2194 [==============================] - 10s 5ms/step - loss: 0.2025 - accuracy: 0.3168 - val_loss: 0.1897 - val_accuracy: 0.3163\n",
      "Epoch 6/25\n",
      "2194/2194 [==============================] - 10s 5ms/step - loss: 0.1794 - accuracy: 0.3622 - val_loss: 0.1769 - val_accuracy: 0.3765\n",
      "Epoch 7/25\n",
      "2194/2194 [==============================] - 10s 5ms/step - loss: 0.1736 - accuracy: 0.3989 - val_loss: 0.1742 - val_accuracy: 0.3978\n",
      "Epoch 8/25\n",
      "2194/2194 [==============================] - 14s 6ms/step - loss: 0.1718 - accuracy: 0.4131 - val_loss: 0.1749 - val_accuracy: 0.4087\n",
      "Epoch 9/25\n",
      "2194/2194 [==============================] - 12s 6ms/step - loss: 0.1707 - accuracy: 0.4209 - val_loss: 0.1728 - val_accuracy: 0.4141\n",
      "Epoch 10/25\n",
      "2194/2194 [==============================] - 11s 5ms/step - loss: 0.1701 - accuracy: 0.4256 - val_loss: 0.1726 - val_accuracy: 0.4175\n",
      "Epoch 11/25\n",
      "2194/2194 [==============================] - 10s 5ms/step - loss: 0.1695 - accuracy: 0.4290 - val_loss: 0.1719 - val_accuracy: 0.4213\n",
      "Epoch 12/25\n",
      "2194/2194 [==============================] - 10s 5ms/step - loss: 0.1690 - accuracy: 0.4325 - val_loss: 0.1711 - val_accuracy: 0.4240\n",
      "Epoch 13/25\n",
      "2194/2194 [==============================] - 13s 6ms/step - loss: 0.1687 - accuracy: 0.4344 - val_loss: 0.1706 - val_accuracy: 0.4198\n",
      "Epoch 14/25\n",
      "2194/2194 [==============================] - 8s 4ms/step - loss: 0.1682 - accuracy: 0.4370 - val_loss: 0.1700 - val_accuracy: 0.4244\n",
      "Epoch 15/25\n",
      "2194/2194 [==============================] - 9s 4ms/step - loss: 0.1678 - accuracy: 0.4383 - val_loss: 0.1697 - val_accuracy: 0.4281\n",
      "Epoch 16/25\n",
      "2194/2194 [==============================] - 10s 5ms/step - loss: 0.1675 - accuracy: 0.4397 - val_loss: 0.1695 - val_accuracy: 0.4334\n",
      "Epoch 17/25\n",
      "2194/2194 [==============================] - 8s 3ms/step - loss: 0.1672 - accuracy: 0.4407 - val_loss: 0.1694 - val_accuracy: 0.4359\n",
      "Epoch 18/25\n",
      "2194/2194 [==============================] - 9s 4ms/step - loss: 0.1670 - accuracy: 0.4423 - val_loss: 0.1691 - val_accuracy: 0.4391\n",
      "Epoch 19/25\n",
      "2194/2194 [==============================] - 7s 3ms/step - loss: 0.1668 - accuracy: 0.4444 - val_loss: 0.1694 - val_accuracy: 0.4397\n",
      "Epoch 20/25\n",
      "2194/2194 [==============================] - 13s 6ms/step - loss: 0.1666 - accuracy: 0.4446 - val_loss: 0.1687 - val_accuracy: 0.4373\n",
      "Epoch 21/25\n",
      "2194/2194 [==============================] - 11s 5ms/step - loss: 0.1665 - accuracy: 0.4462 - val_loss: 0.1686 - val_accuracy: 0.4446\n",
      "Epoch 22/25\n",
      "2194/2194 [==============================] - 12s 5ms/step - loss: 0.1664 - accuracy: 0.4481 - val_loss: 0.1684 - val_accuracy: 0.4423\n",
      "Epoch 23/25\n",
      "2194/2194 [==============================] - 11s 5ms/step - loss: 0.1662 - accuracy: 0.4492 - val_loss: 0.1684 - val_accuracy: 0.4488\n",
      "Epoch 24/25\n",
      "2194/2194 [==============================] - 11s 5ms/step - loss: 0.1661 - accuracy: 0.4509 - val_loss: 0.1682 - val_accuracy: 0.4434\n",
      "Epoch 25/25\n",
      "2194/2194 [==============================] - 14s 6ms/step - loss: 0.1659 - accuracy: 0.4525 - val_loss: 0.1681 - val_accuracy: 0.4534\n"
     ]
    }
   ],
   "source": [
    "# you do not need to change the content of this cell\n",
    "\n",
    "autoencoder.compile(metrics=['accuracy'],\n",
    "                    loss='mean_squared_error',\n",
    "                    optimizer='adam')\n",
    "\n",
    "history = autoencoder.fit(data_train_inliner_rescaled, data_train_inliner_rescaled,\n",
    "                    epochs=nb_epoch,\n",
    "                    batch_size=batch_size,\n",
    "                    shuffle=False,\n",
    "                    validation_data=(data_valid_inliner_rescaled, data_valid_inliner_rescaled),\n",
    "                    verbose=1).history"
   ]
  },
  {
   "cell_type": "code",
   "execution_count": 109,
   "metadata": {},
   "outputs": [
    {
     "data": {
      "image/png": "[encoded data removed]",
      "text/plain": [
       "<Figure size 720x360 with 1 Axes>"
      ]
     },
     "metadata": {
      "needs_background": "light"
     },
     "output_type": "display_data"
    }
   ],
   "source": [
    "plt.plot(history['loss'], linewidth=2, label='Loss on training data')\n",
    "plt.plot(history['val_loss'], linewidth=2, label='Loss on validation data')\n",
    "plt.legend(loc='upper right')\n",
    "plt.title('Model loss')\n",
    "plt.ylabel('Loss')\n",
    "plt.xlabel('Epoch')\n",
    "plt.show()"
   ]
  },
  {
   "cell_type": "code",
   "execution_count": 110,
   "metadata": {},
   "outputs": [
    {
     "data": {
      "image/png": "[encoded data removed]",
      "text/plain": [
       "<Figure size 720x360 with 1 Axes>"
      ]
     },
     "metadata": {
      "needs_background": "light"
     },
     "output_type": "display_data"
    }
   ],
   "source": [
    "plt.plot(history['accuracy'], linewidth=2, label='Accuracy on training data')\n",
    "plt.plot(history['val_accuracy'], linewidth=2, label='Accuracy on validation data')\n",
    "plt.legend(loc='upper right')\n",
    "plt.title('Accuracy')\n",
    "plt.ylabel('Accuracy')\n",
    "plt.xlabel('Epoch')\n",
    "plt.show()"
   ]
  },
  {
   "cell_type": "markdown",
   "metadata": {},
   "source": [
    "We will now test it on rou test data."
   ]
  },
  {
   "cell_type": "code",
   "execution_count": 111,
   "metadata": {},
   "outputs": [],
   "source": [
    "# you do not need to change the content of this cell\n",
    "predictions = autoencoder.predict(data_test_clean_rescaled)"
   ]
  },
  {
   "cell_type": "code",
   "execution_count": 112,
   "metadata": {},
   "outputs": [],
   "source": [
    "# you do not need to change the content of this cell\n",
    "mse = np.mean(np.power(data_test_clean_rescaled - predictions, 2), axis=1)"
   ]
  },
  {
   "cell_type": "code",
   "execution_count": 113,
   "metadata": {},
   "outputs": [],
   "source": [
    "# you do not need to change the content of this cell\n",
    "def plot_mse(inliners_mse:np.ndarray, outliers_mse:np.ndarray, threshold:float, color:str, class_:str):\n",
    "    \n",
    "    fig = plt.figure()\n",
    "    ax1 = fig.add_subplot(1, 2, 1)\n",
    "    ax2 = fig.add_subplot(1, 2, 2, sharey=ax1)\n",
    " \n",
    "    ax1.scatter(np.arange(inliners_mse.shape[0]), inliners_mse, color='blue', alpha=0.1)\n",
    "    ax2.scatter(np.arange(outliers_mse.shape[0]), outliers_mse, color='grey', alpha=0.1)\n",
    "    \n",
    "    ax1.hlines(threshold, ax1.get_xlim()[0], ax1.get_xlim()[1], colors=\"r\", zorder=100, label='Threshold')\n",
    "    ax2.hlines(threshold, ax2.get_xlim()[0], ax2.get_xlim()[1], colors=\"r\", zorder=100, label='Threshold')\n",
    "\n",
    "    plt.show()\n",
    "    "
   ]
  },
  {
   "cell_type": "code",
   "execution_count": 114,
   "metadata": {},
   "outputs": [
    {
     "name": "stdout",
     "output_type": "stream",
     "text": [
      "(70211,)\n",
      "(7381,)\n",
      "[0. 0. 0. ... 0. 0. 0.]\n"
     ]
    }
   ],
   "source": [
    "# you do not need to change the content of this cell\n",
    "inliners_mse = mse[np.where(data_test[:,0] == 0)]  # get inliners (label == 0)\n",
    "print(inliners_mse.shape)\n",
    "outliers_mse = mse[np.where(data_test[:,0] == 1)]   # get inliners (label == 1)\n",
    "print(outliers_mse.shape)\n",
    "print(data_train[:,0])"
   ]
  },
  {
   "cell_type": "code",
   "execution_count": 115,
   "metadata": {},
   "outputs": [
    {
     "data": {
      "image/png": "[encoded data removed]",
      "text/plain": [
       "<Figure size 720x360 with 2 Axes>"
      ]
     },
     "metadata": {
      "needs_background": "light"
     },
     "output_type": "display_data"
    }
   ],
   "source": [
    "# you do not need to change the content of this cell\n",
    "plot_mse(inliners_mse, outliers_mse, 4.0, 'blue', 'inliner')"
   ]
  },
  {
   "cell_type": "code",
   "execution_count": 116,
   "metadata": {},
   "outputs": [],
   "source": [
    "# you do not need to change the content of this cell\n",
    "def plot_confusion_matrix(mse: np.ndarray, labels: np.ndarray, threshold:int):\n",
    "    pred_y = [1 if e > threshold else 0 for e in mse]\n",
    "    cm = confusion_matrix(labels, pred_y)\n",
    "    plt.figure(figsize=(12, 12))\n",
    "    sns.heatmap(cm, xticklabels=[\"Normal\",\"Break\"], yticklabels=[\"Normal\",\"Break\"], annot=True, fmt=\"d\");\n",
    "    plt.title(\"Confusion matrix\")\n",
    "    plt.ylabel('True class')\n",
    "    plt.xlabel('Predicted class')\n",
    "    plt.show()"
   ]
  },
  {
   "cell_type": "code",
   "execution_count": 117,
   "metadata": {},
   "outputs": [
    {
     "data": {
      "image/png": "[encoded data removed]",
      "text/plain": [
       "<Figure size 864x864 with 2 Axes>"
      ]
     },
     "metadata": {
      "needs_background": "light"
     },
     "output_type": "display_data"
    }
   ],
   "source": [
    "# you do not need to change the content of this cell\n",
    "plot_confusion_matrix(mse, data_test[:,0], 4.0)"
   ]
  },
  {
   "cell_type": "code",
   "execution_count": null,
   "metadata": {},
   "outputs": [],
   "source": []
  }
 ],
 "metadata": {
  "kernelspec": {
   "display_name": "Python 3",
   "language": "python",
   "name": "python3"
  },
  "language_info": {
   "codemirror_mode": {
    "name": "ipython",
    "version": 3
   },
   "file_extension": ".py",
   "mimetype": "text/x-python",
   "name": "python",
   "nbconvert_exporter": "python",
   "pygments_lexer": "ipython3",
   "version": "3.9.4"
  }
 },
 "nbformat": 4,
 "nbformat_minor": 2
}
